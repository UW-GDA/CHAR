{
 "cells": [
  {
   "cell_type": "markdown",
   "id": "4a639a3d-52db-468a-ae7b-c9b7345d9257",
   "metadata": {},
   "source": [
    "# Preprocessing Aerial Detection Survey data"
   ]
  },
  {
   "cell_type": "markdown",
   "id": "081bbfb0-af36-4b16-b43b-4bd0478b8a5c",
   "metadata": {},
   "source": [
    "This script was used to preprocess the ADS geodatabase maintained by the USFS Forest Health Monitoring Program. The geodatabase contains all types of damage dating back to the 1940s for all of Oregon and Washington. We ran this script locally to clip all the individual year layers to the boundary of Malheur National Forest and then combined geodataframes and exported a GeoJSON containing all damage areas clipped to the MNF boundary for the years 1965-1990."
   ]
  },
  {
   "cell_type": "markdown",
   "id": "7b19f774-bb5d-44d3-a5f0-59c1b008fc1b",
   "metadata": {},
   "source": [
    "## Import packages"
   ]
  },
  {
   "cell_type": "code",
   "execution_count": 2,
   "id": "e70d21fc-20db-407a-a7ee-8c515a1809c5",
   "metadata": {},
   "outputs": [],
   "source": [
    "import geopandas as gpd\n",
    "import os\n",
    "import fiona\n",
    "import pandas as pd\n",
    "from glob import glob"
   ]
  },
  {
   "cell_type": "markdown",
   "id": "4edd1c26-f45f-45ed-86b0-6466d27d0214",
   "metadata": {},
   "source": [
    "## Define file paths and directories"
   ]
  },
  {
   "cell_type": "code",
   "execution_count": 2,
   "id": "76f4e338-3da1-4e31-acde-a143141d1518",
   "metadata": {},
   "outputs": [],
   "source": [
    "# File paths\n",
    "gdb_path = r\"C:\\Users\\imire\\OneDrive - UW\\Documents\\GDA567\\disturbance_interaction_analysis\\downloaded_data\\ads_gdb\\AerialDetectionSurvey.gdb\"  # Path to ADS GDB\n",
    "ads_geojson_output_path = r\"C:\\Users\\imire\\OneDrive - UW\\Documents\\GDA567\\disturbance_interaction_analysis\\script_outputs\\mnf_ads\"  # Output folder for clipped outbreak GeoJSONs\n",
    "mnf_bounds = gpd.read_file(r\"C:\\Users\\imire\\OneDrive - UW\\Documents\\GDA567\\disturbance_interaction_analysis\\extracted_mnf_subset\\mnf_bounds.geojson\")  # MNF boundary polygon\n",
    "\n",
    "# Make sure output folder exists\n",
    "os.makedirs(ads_geojson_output_path, exist_ok=True)"
   ]
  },
  {
   "cell_type": "markdown",
   "id": "67d1c1e6-fc19-4e76-b0f7-e296ab966bd7",
   "metadata": {},
   "source": [
    "## Export yearly damage area layers overlapping MNF boundary"
   ]
  },
  {
   "cell_type": "code",
   "execution_count": 3,
   "id": "9a9f8360-7e79-48e1-b744-df1370cd0e7a",
   "metadata": {},
   "outputs": [],
   "source": [
    "# Get all layers from GDB\n",
    "layers = fiona.listlayers(gdb_path)"
   ]
  },
  {
   "cell_type": "code",
   "execution_count": 4,
   "id": "c9a0ff70-57ea-4763-a734-1ad0c2ffe4a7",
   "metadata": {},
   "outputs": [
    {
     "name": "stdout",
     "output_type": "stream",
     "text": [
      "Processing DAMAGE_AREAS_2021...\n",
      "Saved clipped layer to C:\\Users\\imire\\OneDrive - UW\\Documents\\GDA567\\disturbance_interaction_analysis\\script_outputs\\mnf_ads\\DAMAGE_AREAS_2021_mnf_overlap.geojson\n",
      "Processing DAMAGE_AREAS_2006...\n",
      "Saved clipped layer to C:\\Users\\imire\\OneDrive - UW\\Documents\\GDA567\\disturbance_interaction_analysis\\script_outputs\\mnf_ads\\DAMAGE_AREAS_2006_mnf_overlap.geojson\n",
      "Processing DAMAGE_AREAS_2008...\n",
      "Saved clipped layer to C:\\Users\\imire\\OneDrive - UW\\Documents\\GDA567\\disturbance_interaction_analysis\\script_outputs\\mnf_ads\\DAMAGE_AREAS_2008_mnf_overlap.geojson\n",
      "Processing DAMAGE_AREAS_2009...\n",
      "Saved clipped layer to C:\\Users\\imire\\OneDrive - UW\\Documents\\GDA567\\disturbance_interaction_analysis\\script_outputs\\mnf_ads\\DAMAGE_AREAS_2009_mnf_overlap.geojson\n",
      "Processing DAMAGE_AREAS_2004...\n",
      "Saved clipped layer to C:\\Users\\imire\\OneDrive - UW\\Documents\\GDA567\\disturbance_interaction_analysis\\script_outputs\\mnf_ads\\DAMAGE_AREAS_2004_mnf_overlap.geojson\n",
      "Processing DAMAGE_AREAS_2011...\n",
      "Saved clipped layer to C:\\Users\\imire\\OneDrive - UW\\Documents\\GDA567\\disturbance_interaction_analysis\\script_outputs\\mnf_ads\\DAMAGE_AREAS_2011_mnf_overlap.geojson\n",
      "Processing DAMAGE_AREAS_2012...\n",
      "Saved clipped layer to C:\\Users\\imire\\OneDrive - UW\\Documents\\GDA567\\disturbance_interaction_analysis\\script_outputs\\mnf_ads\\DAMAGE_AREAS_2012_mnf_overlap.geojson\n",
      "Processing DAMAGE_AREAS_2014...\n",
      "Saved clipped layer to C:\\Users\\imire\\OneDrive - UW\\Documents\\GDA567\\disturbance_interaction_analysis\\script_outputs\\mnf_ads\\DAMAGE_AREAS_2014_mnf_overlap.geojson\n",
      "Processing DAMAGE_AREAS_2015...\n",
      "Saved clipped layer to C:\\Users\\imire\\OneDrive - UW\\Documents\\GDA567\\disturbance_interaction_analysis\\script_outputs\\mnf_ads\\DAMAGE_AREAS_2015_mnf_overlap.geojson\n",
      "Processing DAMAGE_AREAS_1948...\n",
      "Saved clipped layer to C:\\Users\\imire\\OneDrive - UW\\Documents\\GDA567\\disturbance_interaction_analysis\\script_outputs\\mnf_ads\\DAMAGE_AREAS_1948_mnf_overlap.geojson\n",
      "Processing DAMAGE_AREAS_1950...\n",
      "Saved clipped layer to C:\\Users\\imire\\OneDrive - UW\\Documents\\GDA567\\disturbance_interaction_analysis\\script_outputs\\mnf_ads\\DAMAGE_AREAS_1950_mnf_overlap.geojson\n",
      "Processing DAMAGE_AREAS_1951...\n",
      "Saved clipped layer to C:\\Users\\imire\\OneDrive - UW\\Documents\\GDA567\\disturbance_interaction_analysis\\script_outputs\\mnf_ads\\DAMAGE_AREAS_1951_mnf_overlap.geojson\n",
      "Processing DAMAGE_AREAS_1953...\n",
      "Saved clipped layer to C:\\Users\\imire\\OneDrive - UW\\Documents\\GDA567\\disturbance_interaction_analysis\\script_outputs\\mnf_ads\\DAMAGE_AREAS_1953_mnf_overlap.geojson\n",
      "Processing DAMAGE_AREAS_1954...\n",
      "Saved clipped layer to C:\\Users\\imire\\OneDrive - UW\\Documents\\GDA567\\disturbance_interaction_analysis\\script_outputs\\mnf_ads\\DAMAGE_AREAS_1954_mnf_overlap.geojson\n",
      "Processing DAMAGE_AREAS_1956...\n",
      "Saved clipped layer to C:\\Users\\imire\\OneDrive - UW\\Documents\\GDA567\\disturbance_interaction_analysis\\script_outputs\\mnf_ads\\DAMAGE_AREAS_1956_mnf_overlap.geojson\n",
      "Processing DAMAGE_AREAS_1957...\n",
      "Saved clipped layer to C:\\Users\\imire\\OneDrive - UW\\Documents\\GDA567\\disturbance_interaction_analysis\\script_outputs\\mnf_ads\\DAMAGE_AREAS_1957_mnf_overlap.geojson\n",
      "Processing DAMAGE_AREAS_1959...\n",
      "Saved clipped layer to C:\\Users\\imire\\OneDrive - UW\\Documents\\GDA567\\disturbance_interaction_analysis\\script_outputs\\mnf_ads\\DAMAGE_AREAS_1959_mnf_overlap.geojson\n",
      "Processing DAMAGE_AREAS_1960...\n",
      "Saved clipped layer to C:\\Users\\imire\\OneDrive - UW\\Documents\\GDA567\\disturbance_interaction_analysis\\script_outputs\\mnf_ads\\DAMAGE_AREAS_1960_mnf_overlap.geojson\n",
      "Processing DAMAGE_AREAS_1962...\n",
      "Saved clipped layer to C:\\Users\\imire\\OneDrive - UW\\Documents\\GDA567\\disturbance_interaction_analysis\\script_outputs\\mnf_ads\\DAMAGE_AREAS_1962_mnf_overlap.geojson\n",
      "Processing DAMAGE_AREAS_1963...\n",
      "Saved clipped layer to C:\\Users\\imire\\OneDrive - UW\\Documents\\GDA567\\disturbance_interaction_analysis\\script_outputs\\mnf_ads\\DAMAGE_AREAS_1963_mnf_overlap.geojson\n",
      "Processing DAMAGE_AREAS_1964...\n",
      "Saved clipped layer to C:\\Users\\imire\\OneDrive - UW\\Documents\\GDA567\\disturbance_interaction_analysis\\script_outputs\\mnf_ads\\DAMAGE_AREAS_1964_mnf_overlap.geojson\n",
      "Processing DAMAGE_AREAS_1965...\n",
      "Saved clipped layer to C:\\Users\\imire\\OneDrive - UW\\Documents\\GDA567\\disturbance_interaction_analysis\\script_outputs\\mnf_ads\\DAMAGE_AREAS_1965_mnf_overlap.geojson\n",
      "Processing DAMAGE_AREAS_1980...\n",
      "Saved clipped layer to C:\\Users\\imire\\OneDrive - UW\\Documents\\GDA567\\disturbance_interaction_analysis\\script_outputs\\mnf_ads\\DAMAGE_AREAS_1980_mnf_overlap.geojson\n",
      "Processing DAMAGE_AREAS_1984...\n",
      "Saved clipped layer to C:\\Users\\imire\\OneDrive - UW\\Documents\\GDA567\\disturbance_interaction_analysis\\script_outputs\\mnf_ads\\DAMAGE_AREAS_1984_mnf_overlap.geojson\n",
      "Processing DAMAGE_AREAS_1988...\n"
     ]
    },
    {
     "name": "stderr",
     "output_type": "stream",
     "text": [
      "C:\\Users\\imire\\AppData\\Local\\anaconda3\\Lib\\site-packages\\pyogrio\\raw.py:198: RuntimeWarning: organizePolygons() received a polygon with more than 100 parts. The processing may be really slow.  You can skip the processing by setting METHOD=SKIP, or only make it analyze counter-clock wise parts by setting METHOD=ONLY_CCW if you can assume that the outline of holes is counter-clock wise defined\n",
      "  return ogr_read(\n"
     ]
    },
    {
     "name": "stdout",
     "output_type": "stream",
     "text": [
      "Saved clipped layer to C:\\Users\\imire\\OneDrive - UW\\Documents\\GDA567\\disturbance_interaction_analysis\\script_outputs\\mnf_ads\\DAMAGE_AREAS_1988_mnf_overlap.geojson\n",
      "Processing DAMAGE_AREAS_1989...\n",
      "Saved clipped layer to C:\\Users\\imire\\OneDrive - UW\\Documents\\GDA567\\disturbance_interaction_analysis\\script_outputs\\mnf_ads\\DAMAGE_AREAS_1989_mnf_overlap.geojson\n",
      "Processing DAMAGE_AREAS_1990...\n",
      "Saved clipped layer to C:\\Users\\imire\\OneDrive - UW\\Documents\\GDA567\\disturbance_interaction_analysis\\script_outputs\\mnf_ads\\DAMAGE_AREAS_1990_mnf_overlap.geojson\n",
      "Processing DAMAGE_AREAS_1991...\n",
      "Saved clipped layer to C:\\Users\\imire\\OneDrive - UW\\Documents\\GDA567\\disturbance_interaction_analysis\\script_outputs\\mnf_ads\\DAMAGE_AREAS_1991_mnf_overlap.geojson\n",
      "Processing DAMAGE_AREAS_1992...\n",
      "Saved clipped layer to C:\\Users\\imire\\OneDrive - UW\\Documents\\GDA567\\disturbance_interaction_analysis\\script_outputs\\mnf_ads\\DAMAGE_AREAS_1992_mnf_overlap.geojson\n",
      "Processing DAMAGE_AREAS_1993...\n",
      "Saved clipped layer to C:\\Users\\imire\\OneDrive - UW\\Documents\\GDA567\\disturbance_interaction_analysis\\script_outputs\\mnf_ads\\DAMAGE_AREAS_1993_mnf_overlap.geojson\n",
      "Processing DAMAGE_AREAS_1987...\n",
      "Saved clipped layer to C:\\Users\\imire\\OneDrive - UW\\Documents\\GDA567\\disturbance_interaction_analysis\\script_outputs\\mnf_ads\\DAMAGE_AREAS_1987_mnf_overlap.geojson\n",
      "Processing DAMAGE_AREAS_1994...\n",
      "Saved clipped layer to C:\\Users\\imire\\OneDrive - UW\\Documents\\GDA567\\disturbance_interaction_analysis\\script_outputs\\mnf_ads\\DAMAGE_AREAS_1994_mnf_overlap.geojson\n",
      "Processing DAMAGE_AREAS_1995...\n",
      "Saved clipped layer to C:\\Users\\imire\\OneDrive - UW\\Documents\\GDA567\\disturbance_interaction_analysis\\script_outputs\\mnf_ads\\DAMAGE_AREAS_1995_mnf_overlap.geojson\n",
      "Processing DAMAGE_AREAS_1996...\n",
      "Saved clipped layer to C:\\Users\\imire\\OneDrive - UW\\Documents\\GDA567\\disturbance_interaction_analysis\\script_outputs\\mnf_ads\\DAMAGE_AREAS_1996_mnf_overlap.geojson\n",
      "Processing DAMAGE_AREAS_1997...\n",
      "Saved clipped layer to C:\\Users\\imire\\OneDrive - UW\\Documents\\GDA567\\disturbance_interaction_analysis\\script_outputs\\mnf_ads\\DAMAGE_AREAS_1997_mnf_overlap.geojson\n",
      "Processing DAMAGE_AREAS_1998...\n",
      "Saved clipped layer to C:\\Users\\imire\\OneDrive - UW\\Documents\\GDA567\\disturbance_interaction_analysis\\script_outputs\\mnf_ads\\DAMAGE_AREAS_1998_mnf_overlap.geojson\n",
      "Processing DAMAGE_AREAS_1999...\n",
      "Saved clipped layer to C:\\Users\\imire\\OneDrive - UW\\Documents\\GDA567\\disturbance_interaction_analysis\\script_outputs\\mnf_ads\\DAMAGE_AREAS_1999_mnf_overlap.geojson\n",
      "Processing DAMAGE_AREAS_2000...\n",
      "Saved clipped layer to C:\\Users\\imire\\OneDrive - UW\\Documents\\GDA567\\disturbance_interaction_analysis\\script_outputs\\mnf_ads\\DAMAGE_AREAS_2000_mnf_overlap.geojson\n",
      "Processing DAMAGE_AREAS_2001...\n",
      "Saved clipped layer to C:\\Users\\imire\\OneDrive - UW\\Documents\\GDA567\\disturbance_interaction_analysis\\script_outputs\\mnf_ads\\DAMAGE_AREAS_2001_mnf_overlap.geojson\n",
      "Processing DAMAGE_AREAS_2003...\n",
      "Saved clipped layer to C:\\Users\\imire\\OneDrive - UW\\Documents\\GDA567\\disturbance_interaction_analysis\\script_outputs\\mnf_ads\\DAMAGE_AREAS_2003_mnf_overlap.geojson\n",
      "Processing DAMAGE_AREAS_2002...\n",
      "Saved clipped layer to C:\\Users\\imire\\OneDrive - UW\\Documents\\GDA567\\disturbance_interaction_analysis\\script_outputs\\mnf_ads\\DAMAGE_AREAS_2002_mnf_overlap.geojson\n",
      "Processing DAMAGE_AREAS_2016...\n",
      "Saved clipped layer to C:\\Users\\imire\\OneDrive - UW\\Documents\\GDA567\\disturbance_interaction_analysis\\script_outputs\\mnf_ads\\DAMAGE_AREAS_2016_mnf_overlap.geojson\n",
      "Processing DAMAGE_AREAS_2017...\n",
      "Saved clipped layer to C:\\Users\\imire\\OneDrive - UW\\Documents\\GDA567\\disturbance_interaction_analysis\\script_outputs\\mnf_ads\\DAMAGE_AREAS_2017_mnf_overlap.geojson\n",
      "Processing DAMAGE_AREAS_2018...\n",
      "Saved clipped layer to C:\\Users\\imire\\OneDrive - UW\\Documents\\GDA567\\disturbance_interaction_analysis\\script_outputs\\mnf_ads\\DAMAGE_AREAS_2018_mnf_overlap.geojson\n",
      "Processing DAMAGE_AREAS_2019...\n",
      "Saved clipped layer to C:\\Users\\imire\\OneDrive - UW\\Documents\\GDA567\\disturbance_interaction_analysis\\script_outputs\\mnf_ads\\DAMAGE_AREAS_2019_mnf_overlap.geojson\n",
      "Processing DAMAGE_AREAS_2020...\n",
      "Saved clipped layer to C:\\Users\\imire\\OneDrive - UW\\Documents\\GDA567\\disturbance_interaction_analysis\\script_outputs\\mnf_ads\\DAMAGE_AREAS_2020_mnf_overlap.geojson\n",
      "Processing DAMAGE_AREAS_1947...\n",
      "Saved clipped layer to C:\\Users\\imire\\OneDrive - UW\\Documents\\GDA567\\disturbance_interaction_analysis\\script_outputs\\mnf_ads\\DAMAGE_AREAS_1947_mnf_overlap.geojson\n",
      "Processing DAMAGE_AREAS_1949...\n",
      "Saved clipped layer to C:\\Users\\imire\\OneDrive - UW\\Documents\\GDA567\\disturbance_interaction_analysis\\script_outputs\\mnf_ads\\DAMAGE_AREAS_1949_mnf_overlap.geojson\n",
      "Processing DAMAGE_AREAS_1981...\n",
      "Saved clipped layer to C:\\Users\\imire\\OneDrive - UW\\Documents\\GDA567\\disturbance_interaction_analysis\\script_outputs\\mnf_ads\\DAMAGE_AREAS_1981_mnf_overlap.geojson\n",
      "Processing DAMAGE_AREAS_1952...\n",
      "Saved clipped layer to C:\\Users\\imire\\OneDrive - UW\\Documents\\GDA567\\disturbance_interaction_analysis\\script_outputs\\mnf_ads\\DAMAGE_AREAS_1952_mnf_overlap.geojson\n",
      "Processing DAMAGE_AREAS_1955...\n",
      "Saved clipped layer to C:\\Users\\imire\\OneDrive - UW\\Documents\\GDA567\\disturbance_interaction_analysis\\script_outputs\\mnf_ads\\DAMAGE_AREAS_1955_mnf_overlap.geojson\n",
      "Processing DAMAGE_AREAS_1958...\n",
      "Saved clipped layer to C:\\Users\\imire\\OneDrive - UW\\Documents\\GDA567\\disturbance_interaction_analysis\\script_outputs\\mnf_ads\\DAMAGE_AREAS_1958_mnf_overlap.geojson\n",
      "Processing DAMAGE_AREAS_1961...\n",
      "Saved clipped layer to C:\\Users\\imire\\OneDrive - UW\\Documents\\GDA567\\disturbance_interaction_analysis\\script_outputs\\mnf_ads\\DAMAGE_AREAS_1961_mnf_overlap.geojson\n",
      "Processing DAMAGE_AREAS_1966...\n",
      "Saved clipped layer to C:\\Users\\imire\\OneDrive - UW\\Documents\\GDA567\\disturbance_interaction_analysis\\script_outputs\\mnf_ads\\DAMAGE_AREAS_1966_mnf_overlap.geojson\n",
      "Processing DAMAGE_AREAS_1967...\n",
      "Saved clipped layer to C:\\Users\\imire\\OneDrive - UW\\Documents\\GDA567\\disturbance_interaction_analysis\\script_outputs\\mnf_ads\\DAMAGE_AREAS_1967_mnf_overlap.geojson\n",
      "Processing DAMAGE_AREAS_1968...\n",
      "Saved clipped layer to C:\\Users\\imire\\OneDrive - UW\\Documents\\GDA567\\disturbance_interaction_analysis\\script_outputs\\mnf_ads\\DAMAGE_AREAS_1968_mnf_overlap.geojson\n",
      "Processing DAMAGE_AREAS_1969...\n",
      "Saved clipped layer to C:\\Users\\imire\\OneDrive - UW\\Documents\\GDA567\\disturbance_interaction_analysis\\script_outputs\\mnf_ads\\DAMAGE_AREAS_1969_mnf_overlap.geojson\n",
      "Processing DAMAGE_AREAS_1970...\n",
      "Saved clipped layer to C:\\Users\\imire\\OneDrive - UW\\Documents\\GDA567\\disturbance_interaction_analysis\\script_outputs\\mnf_ads\\DAMAGE_AREAS_1970_mnf_overlap.geojson\n",
      "Processing DAMAGE_AREAS_1971...\n",
      "Saved clipped layer to C:\\Users\\imire\\OneDrive - UW\\Documents\\GDA567\\disturbance_interaction_analysis\\script_outputs\\mnf_ads\\DAMAGE_AREAS_1971_mnf_overlap.geojson\n",
      "Processing DAMAGE_AREAS_1972...\n",
      "Saved clipped layer to C:\\Users\\imire\\OneDrive - UW\\Documents\\GDA567\\disturbance_interaction_analysis\\script_outputs\\mnf_ads\\DAMAGE_AREAS_1972_mnf_overlap.geojson\n",
      "Processing DAMAGE_AREAS_1973...\n",
      "Saved clipped layer to C:\\Users\\imire\\OneDrive - UW\\Documents\\GDA567\\disturbance_interaction_analysis\\script_outputs\\mnf_ads\\DAMAGE_AREAS_1973_mnf_overlap.geojson\n",
      "Processing DAMAGE_AREAS_1974...\n",
      "Saved clipped layer to C:\\Users\\imire\\OneDrive - UW\\Documents\\GDA567\\disturbance_interaction_analysis\\script_outputs\\mnf_ads\\DAMAGE_AREAS_1974_mnf_overlap.geojson\n",
      "Processing DAMAGE_AREAS_1975...\n",
      "Saved clipped layer to C:\\Users\\imire\\OneDrive - UW\\Documents\\GDA567\\disturbance_interaction_analysis\\script_outputs\\mnf_ads\\DAMAGE_AREAS_1975_mnf_overlap.geojson\n",
      "Processing DAMAGE_AREAS_1976...\n",
      "Saved clipped layer to C:\\Users\\imire\\OneDrive - UW\\Documents\\GDA567\\disturbance_interaction_analysis\\script_outputs\\mnf_ads\\DAMAGE_AREAS_1976_mnf_overlap.geojson\n",
      "Processing DAMAGE_AREAS_1977...\n",
      "Saved clipped layer to C:\\Users\\imire\\OneDrive - UW\\Documents\\GDA567\\disturbance_interaction_analysis\\script_outputs\\mnf_ads\\DAMAGE_AREAS_1977_mnf_overlap.geojson\n",
      "Processing DAMAGE_AREAS_1978...\n",
      "Saved clipped layer to C:\\Users\\imire\\OneDrive - UW\\Documents\\GDA567\\disturbance_interaction_analysis\\script_outputs\\mnf_ads\\DAMAGE_AREAS_1978_mnf_overlap.geojson\n",
      "Processing DAMAGE_AREAS_1979...\n",
      "Saved clipped layer to C:\\Users\\imire\\OneDrive - UW\\Documents\\GDA567\\disturbance_interaction_analysis\\script_outputs\\mnf_ads\\DAMAGE_AREAS_1979_mnf_overlap.geojson\n",
      "Processing DAMAGE_AREAS_1982...\n",
      "Saved clipped layer to C:\\Users\\imire\\OneDrive - UW\\Documents\\GDA567\\disturbance_interaction_analysis\\script_outputs\\mnf_ads\\DAMAGE_AREAS_1982_mnf_overlap.geojson\n",
      "Processing DAMAGE_AREAS_1983...\n",
      "Saved clipped layer to C:\\Users\\imire\\OneDrive - UW\\Documents\\GDA567\\disturbance_interaction_analysis\\script_outputs\\mnf_ads\\DAMAGE_AREAS_1983_mnf_overlap.geojson\n",
      "Processing DAMAGE_AREAS_1985...\n",
      "Saved clipped layer to C:\\Users\\imire\\OneDrive - UW\\Documents\\GDA567\\disturbance_interaction_analysis\\script_outputs\\mnf_ads\\DAMAGE_AREAS_1985_mnf_overlap.geojson\n",
      "Processing DAMAGE_AREAS_1986...\n",
      "Saved clipped layer to C:\\Users\\imire\\OneDrive - UW\\Documents\\GDA567\\disturbance_interaction_analysis\\script_outputs\\mnf_ads\\DAMAGE_AREAS_1986_mnf_overlap.geojson\n",
      "Processing DAMAGE_AREAS_2005...\n",
      "Saved clipped layer to C:\\Users\\imire\\OneDrive - UW\\Documents\\GDA567\\disturbance_interaction_analysis\\script_outputs\\mnf_ads\\DAMAGE_AREAS_2005_mnf_overlap.geojson\n",
      "Processing DAMAGE_AREAS_2007...\n",
      "Saved clipped layer to C:\\Users\\imire\\OneDrive - UW\\Documents\\GDA567\\disturbance_interaction_analysis\\script_outputs\\mnf_ads\\DAMAGE_AREAS_2007_mnf_overlap.geojson\n",
      "Processing DAMAGE_AREAS_2010...\n",
      "Saved clipped layer to C:\\Users\\imire\\OneDrive - UW\\Documents\\GDA567\\disturbance_interaction_analysis\\script_outputs\\mnf_ads\\DAMAGE_AREAS_2010_mnf_overlap.geojson\n",
      "Processing DAMAGE_AREAS_2013...\n",
      "Saved clipped layer to C:\\Users\\imire\\OneDrive - UW\\Documents\\GDA567\\disturbance_interaction_analysis\\script_outputs\\mnf_ads\\DAMAGE_AREAS_2013_mnf_overlap.geojson\n"
     ]
    }
   ],
   "source": [
    "# Filter relevant DAMAGE_AREAS layers, excluding 'a_DAMAGE_AREAS_all'\n",
    "damage_area_layers = [layer for layer in layers \n",
    "                      if \"DAMAGE_AREAS\" in layer and layer != \"a_DAMAGE_AREAS_all\"]\n",
    "\n",
    "# Target CRS (optional - make sure all layers match for spatial ops)\n",
    "target_crs = \"EPSG:3857\"\n",
    "mnf_bounds = mnf_bounds.to_crs(target_crs)\n",
    "\n",
    "for layer_name in damage_area_layers:\n",
    "    try:\n",
    "        print(f\"Processing {layer_name}...\")\n",
    "        \n",
    "        # Load the layer\n",
    "        gdf = gpd.read_file(gdb_path, layer=layer_name)\n",
    "        \n",
    "        # Reproject if needed\n",
    "        if gdf.crs != mnf_bounds.crs:\n",
    "            gdf = gdf.to_crs(mnf_bounds.crs)\n",
    "        \n",
    "        # Clip to MNF boundary\n",
    "        gdf_clipped = gpd.overlay(gdf, mnf_bounds, how='intersection')\n",
    "        \n",
    "        if not gdf_clipped.empty:\n",
    "            out_path = os.path.join(ads_geojson_output_path, f\"{layer_name}_mnf_overlap.geojson\")\n",
    "            gdf_clipped.to_file(out_path, driver=\"GeoJSON\")\n",
    "            print(f\"Saved clipped layer to {out_path}\")\n",
    "        else:\n",
    "            print(f\"No overlap with MNF for {layer_name}. Skipped.\")\n",
    "            \n",
    "    except Exception as e:\n",
    "        print(f\"Error processing {layer_name}: {e}\")\n"
   ]
  },
  {
   "cell_type": "markdown",
   "id": "735b2306-9e7a-4efc-981c-2e2b6bb62d77",
   "metadata": {},
   "source": [
    "## Combine and export WSB years 1965–1990 as one GeoJSON"
   ]
  },
  {
   "cell_type": "code",
   "execution_count": 5,
   "id": "49e93a78-ef08-4b37-be0e-9cb7d61ea2dd",
   "metadata": {},
   "outputs": [
    {
     "name": "stdout",
     "output_type": "stream",
     "text": [
      "Combining MNF-overlapping layers from 1965–1990...\n"
     ]
    },
    {
     "name": "stderr",
     "output_type": "stream",
     "text": [
      "C:\\Users\\imire\\AppData\\Local\\Temp\\ipykernel_7412\\3133323853.py:24: FutureWarning: The behavior of DataFrame concatenation with empty or all-NA entries is deprecated. In a future version, this will no longer exclude empty or all-NA columns when determining the result dtypes. To retain the old behavior, exclude the relevant entries before the concat operation.\n",
      "  combined = gpd.GeoDataFrame(pd.concat(gdfs, ignore_index=True), crs=gdfs[0].crs)\n"
     ]
    },
    {
     "name": "stdout",
     "output_type": "stream",
     "text": [
      "Exported combined damage areas from 1965–1990 to: C:\\Users\\imire\\OneDrive - UW\\Documents\\GDA567\\disturbance_interaction_analysis\\script_outputs\\mnf_ads\\mnf_damage_1965_1990.geojson\n"
     ]
    }
   ],
   "source": [
    "print(\"Combining MNF-overlapping layers from 1965–1990...\")\n",
    "\n",
    "# Output file for combined data\n",
    "combined_output_path = os.path.join(ads_geojson_output_path, \"mnf_damage_1965_1990.geojson\")\n",
    "\n",
    "# Collect all the GeoJSONs\n",
    "geojson_files = glob(os.path.join(ads_geojson_output_path, \"*_mnf_overlap.geojson\"))\n",
    "\n",
    "# Read and concatenate only non-empty gdfs\n",
    "gdfs = []\n",
    "for fp in geojson_files:\n",
    "    try:\n",
    "        gdf = gpd.read_file(fp)\n",
    "        if not gdf.empty and \"SURVEY_YEAR\":\n",
    "            gdfs.append(gdf)\n",
    "        else:\n",
    "            print(f\"Skipped (empty): {fp}\")\n",
    "    except Exception as e:\n",
    "        print(f\"Error reading {fp}: {e}\")\n",
    "\n",
    "# Combine gdfs and filter to 1965-1990 outbreaks\n",
    "if gdfs:\n",
    "    combined = gpd.GeoDataFrame(pd.concat(gdfs, ignore_index=True), crs=gdfs[0].crs)\n",
    "    filtered = combined[(combined[\"SURVEY_YEAR\"] >= 1965) & (combined[\"SURVEY_YEAR\"] <= 1990)]\n",
    "\n",
    "    if not filtered.empty:\n",
    "        filtered.to_file(combined_output_path, driver=\"GeoJSON\")\n",
    "        print(f\"Exported combined damage areas from 1965–1990 to: {combined_output_path}\")\n",
    "    else:\n",
    "        print(\"No features found in the 1965–1990 range.\")\n",
    "else:\n",
    "    print(\"No valid data to combine.\")"
   ]
  }
 ],
 "metadata": {
  "kernelspec": {
   "display_name": "Python 3 (ipykernel)",
   "language": "python",
   "name": "python3"
  },
  "language_info": {
   "codemirror_mode": {
    "name": "ipython",
    "version": 3
   },
   "file_extension": ".py",
   "mimetype": "text/x-python",
   "name": "python",
   "nbconvert_exporter": "python",
   "pygments_lexer": "ipython3",
   "version": "3.11.6"
  }
 },
 "nbformat": 4,
 "nbformat_minor": 5
}
