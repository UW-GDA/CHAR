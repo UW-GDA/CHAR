{
 "cells": [
  {
   "cell_type": "code",
   "execution_count": 3,
   "id": "e7bd300d-64bb-403d-a6ed-e003b0ed3987",
   "metadata": {},
   "outputs": [],
   "source": [
    "import geopandas as gpd\n",
    "import rasterio\n",
    "import rasterio.mask\n",
    "from rasterio.warp import calculate_default_transform, reproject, Resampling\n",
    "from shapely.geometry import box\n",
    "import json\n",
    "import rioxarray as rxr\n",
    "from rasterio.merge import merge\n",
    "from rasterio.mask import mask\n",
    "import glob\n",
    "import os\n",
    "import fiona\n",
    "import pandas as pd\n",
    "import contextily as ctx\n",
    "import matplotlib.pyplot as plt  # For plotting\n",
    "import numpy as np  # For array manipulations (if needed)\n"
   ]
  },
  {
   "cell_type": "markdown",
   "id": "c9cae8d2-7b2e-4d30-b073-655cdd176aa4",
   "metadata": {},
   "source": [
    "## Export all contents of GDB as GeoJSONs and sort"
   ]
  },
  {
   "cell_type": "code",
   "execution_count": null,
   "id": "7cde4738-d9d0-40d4-b070-6643a23e6277",
   "metadata": {},
   "outputs": [],
   "source": [
    "## This section was done using a local version of the gdb as the gbd was too large to upload.\n",
    "## The extraction script is uploaded as \"process_ads_gdb.\"\n",
    "## The individual layers are uploaded in script_outputs/ads_layers."
   ]
  },
  {
   "cell_type": "markdown",
   "id": "3899d0cd-49e8-43ba-9bd4-3a91c55b730d",
   "metadata": {},
   "source": [
    "## Export all WSB polygons from folder of GeoJSONs for WA and OR (GeoJSON to GeoJSON)"
   ]
  },
  {
   "cell_type": "code",
   "execution_count": null,
   "id": "f2d8b438-ca79-49be-92e6-0abd91fc6e38",
   "metadata": {},
   "outputs": [],
   "source": [
    "# Define input folder containing GeoJSON files\n",
    "input_folder = r\"C:\\Users\\imire\\OneDrive - UW\\Documents\\GDA567\\disturbance_interaction_analysis\\extracted_mnf_subset\\exported_ads_geojsons\\damage_areas\"\n",
    "output_folder = os.path.join(input_folder, \"12040\")\n",
    "\n",
    "# Ensure output folder exists\n",
    "os.makedirs(output_folder, exist_ok=True)\n",
    "\n",
    "# Function to process and save filtered data\n",
    "def process_and_save_geojsons(input_folder, output_folder):\n",
    "    for file in os.listdir(input_folder):\n",
    "        if file.endswith(\".geojson\"):\n",
    "            file_path = os.path.join(input_folder, file)\n",
    "            print(f\"Processing file: {file}\")\n",
    "            \n",
    "            # Read GeoJSON into a GeoDataFrame\n",
    "            gdf = gpd.read_file(file_path)\n",
    "            \n",
    "            # Filter records where \"DCA_CODE\" == 12040\n",
    "            if \"DCA_CODE\" in gdf.columns:\n",
    "                gdf_filtered = gdf[gdf[\"DCA_CODE\"] == 12040]\n",
    "                \n",
    "                if not gdf_filtered.empty:\n",
    "                    output_geojson = os.path.join(output_folder, f\"{os.path.splitext(file)[0]}_DCA12040.geojson\")\n",
    "                    gdf_filtered.to_file(output_geojson, driver=\"GeoJSON\")\n",
    "                    print(f\"Saved filtered GeoJSON: {output_geojson}\")\n",
    "                else:\n",
    "                    print(f\"No matching records found in {file}.\")\n",
    "            else:\n",
    "                print(f\"Field 'DCA_CODE' not found in {file}, skipping.\")\n",
    "\n",
    "# Run the function\n",
    "process_and_save_geojsons(input_folder, output_folder)\n",
    "\n",
    "print(\"Processing complete.\")"
   ]
  },
  {
   "cell_type": "markdown",
   "id": "6f29aaa7-593b-4111-a03f-1e2e05e3d14e",
   "metadata": {},
   "source": [
    "## Export all outbreak polygons (all DCA Codes) from folder of GeoJSONs for study area (GeoJSON to GeoJSON)"
   ]
  },
  {
   "cell_type": "code",
   "execution_count": null,
   "id": "191e45c5-e009-4f39-a391-3e37f6d1eabf",
   "metadata": {},
   "outputs": [],
   "source": [
    "# Extract polygons overlapping MNF boundary\n",
    "output_mnf_overlap_folder = os.path.join(input_folder, \"mnf_overlap\")\n",
    "os.makedirs(output_mnf_overlap_folder, exist_ok=True)\n",
    "\n",
    "def extract_mnf_overlapping_polygons(input_folder, output_folder, mnf_boundary):\n",
    "    for file in os.listdir(input_folder):\n",
    "        if file.endswith(\".geojson\"):\n",
    "            file_path = os.path.join(input_folder, file)\n",
    "            print(f\"Checking MNF overlap for: {file}\")\n",
    "            \n",
    "            gdf = gpd.read_file(file_path)\n",
    "            \n",
    "            # Ensure CRS matches\n",
    "            if gdf.crs != mnf_boundary.crs:\n",
    "                gdf = gdf.to_crs(mnf_boundary.crs)\n",
    "            \n",
    "            # Filter polygons overlapping MNF boundary\n",
    "            gdf_overlap = gpd.overlay(gdf, malheur_nf, how='intersection')\n",
    "            \n",
    "            if not gdf_overlap.empty:\n",
    "                output_geojson = os.path.join(output_folder, f\"{os.path.splitext(file)[0]}_mnf_overlap.geojson\")\n",
    "                gdf_overlap.to_file(output_geojson, driver=\"GeoJSON\")\n",
    "                print(f\"Saved MNF overlapping polygons: {output_geojson}\")\n",
    "            else:\n",
    "                print(f\"No overlapping polygons found in {file}.\")\n",
    "\n",
    "# Run the function\n",
    "extract_mnf_overlapping_polygons(input_folder, output_mnf_overlap_folder, malheur_nf)"
   ]
  },
  {
   "cell_type": "markdown",
   "id": "b647e2fa-12b2-4a92-ae7a-f7f986ca5851",
   "metadata": {
    "jp-MarkdownHeadingCollapsed": true
   },
   "source": [
    "## Export only WSB outbreak polygons from folder of GeoJSONs for study area (GeoJSON to GeoJSON)"
   ]
  },
  {
   "cell_type": "code",
   "execution_count": null,
   "id": "5f2151a0-ae3a-4476-ab48-6c0e22ee0e26",
   "metadata": {},
   "outputs": [],
   "source": []
  }
 ],
 "metadata": {
  "kernelspec": {
   "display_name": "Python 3 (ipykernel)",
   "language": "python",
   "name": "python3"
  },
  "language_info": {
   "codemirror_mode": {
    "name": "ipython",
    "version": 3
   },
   "file_extension": ".py",
   "mimetype": "text/x-python",
   "name": "python",
   "nbconvert_exporter": "python",
   "pygments_lexer": "ipython3",
   "version": "3.11.6"
  }
 },
 "nbformat": 4,
 "nbformat_minor": 5
}
