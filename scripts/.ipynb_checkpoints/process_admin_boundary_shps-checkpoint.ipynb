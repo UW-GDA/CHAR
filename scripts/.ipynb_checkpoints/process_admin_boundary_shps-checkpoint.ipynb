{
 "cells": [
  {
   "cell_type": "markdown",
   "id": "57c7c0d1-217a-4d09-af31-e3eeb751101a",
   "metadata": {},
   "source": [
    "# Process boundary files"
   ]
  },
  {
   "cell_type": "markdown",
   "id": "cb95db0a-5014-4137-8177-863af83525ea",
   "metadata": {},
   "source": [
    "*This script was used to extract features within the study area from a large zipped dataset. The zipped data were then deleted to conserve storage space.*"
   ]
  },
  {
   "cell_type": "markdown",
   "id": "ac6876db-a6c1-46f8-abee-15ea9a7f8140",
   "metadata": {},
   "source": [
    "## Scope"
   ]
  },
  {
   "cell_type": "markdown",
   "id": "5d73788a-0623-4cc2-baf3-3de776d3ab65",
   "metadata": {},
   "source": [
    "- Unzip and read in boundary shapefiles:\n",
    "    - National Forest Administrative Boundaries polygon shapefile\n",
    "    - United States political boundaries polygon shapefile\n",
    "- Convert shapefiles to GeoDataFrames\n",
    "- Extract desired features:\n",
    "    - From National Forests polygon layer, extract Malheur National Forest boundary polygon\n",
    "    - From United States state boundaries, extract Oregon boundary polygon\n",
    "- Export extracted features as GeoJSONs"
   ]
  },
  {
   "cell_type": "markdown",
   "id": "dd148e7e-48a8-43ea-afce-244298ad0e6f",
   "metadata": {
    "tags": []
   },
   "source": [
    "# Import necessary packages"
   ]
  },
  {
   "cell_type": "code",
   "execution_count": 17,
   "id": "e6fab1ef-d1c0-4c26-b31a-5fd96bb8e24d",
   "metadata": {
    "tags": []
   },
   "outputs": [],
   "source": [
    "import geopandas as gpd\n",
    "import fiona\n",
    "import os\n",
    "import zipfile\n",
    "import rasterio\n",
    "import numpy as np\n",
    "from rasterio.features import rasterize\n",
    "from rasterio.transform import from_origin\n",
    "import pandas as pd"
   ]
  },
  {
   "cell_type": "code",
   "execution_count": 18,
   "id": "06995c04-1ac1-4d26-9386-3879a9059f27",
   "metadata": {
    "tags": []
   },
   "outputs": [],
   "source": [
    "# Define paths to zipped folders\n",
    "state_bounds_zip_path = r\"boundary_polygons/tl_2024_us_state.zip\"\n",
    "forest_bounds_zip_path = r\"boundary_polygons/Forest_Administrative_Boundaries_(Feature_Layer).zip\"\n",
    "\n",
    "output_folder = r\"boundary_polygons\""
   ]
  },
  {
   "cell_type": "code",
   "execution_count": 19,
   "id": "890bcc4b-eed2-4ca4-9fe6-8d7af6f38be5",
   "metadata": {
    "tags": []
   },
   "outputs": [],
   "source": [
    "# Make directory for boundary GeoJSONs\n",
    "# Define the new directory path\n",
    "boundary_shapefile_path = os.path.join(output_folder, \"boundary_shps\")\n",
    "boundary_geojsons_path = os.path.join(output_folder, \"boundary_geoJSONs\")\n",
    "\n",
    "# Create the directory if it doesn't already exist\n",
    "os.makedirs(boundary_shapefile_path, exist_ok = True)\n",
    "os.makedirs(boundary_geojsons_path, exist_ok = True)"
   ]
  },
  {
   "cell_type": "code",
   "execution_count": 21,
   "id": "f7567645-eed6-45b0-b158-1a2e6a775f57",
   "metadata": {},
   "outputs": [
    {
     "name": "stdout",
     "output_type": "stream",
     "text": [
      "Extracted to: boundary_polygons/boundary_shps\n",
      "Extracted to: boundary_polygons/boundary_shps\n"
     ]
    }
   ],
   "source": [
    "# Define unzip to output location function\n",
    "def unzip_folder(zip_path, extract_to): \n",
    "    with zipfile.ZipFile(zip_path, 'r') as zip_ref:\n",
    "        zip_ref.extractall(extract_to)\n",
    "    print(f\"Extracted to: {boundary_shapefile_path}\")\n",
    "\n",
    "unzip_folder(state_bounds_zip_path, boundary_shapefile_path)\n",
    "unzip_folder(forest_bounds_zip_path, boundary_shapefile_path)"
   ]
  },
  {
   "cell_type": "code",
   "execution_count": 9,
   "id": "3eac1d41-f007-4e72-b675-34925a83bbf2",
   "metadata": {
    "tags": []
   },
   "outputs": [],
   "source": [
    "# Read in shapefiles as GeoDataFrames\n",
    "states_gdf = gpd.read_file(\"tl_2024_us_state.shp\")\n",
    "forests_gdf = gpd.read_file(\"Forest_Administrative_Boundaries_(Feature_Layer).shp\")"
   ]
  },
  {
   "cell_type": "markdown",
   "id": "efa9ed8e-24ff-40cb-8dfe-5734568221c5",
   "metadata": {},
   "source": [
    "## Forests"
   ]
  },
  {
   "cell_type": "code",
   "execution_count": 22,
   "id": "dfb6b74c-8480-4534-9665-8cfd227699c4",
   "metadata": {
    "tags": []
   },
   "outputs": [
    {
     "data": {
      "text/html": [
       "<div>\n",
       "<style scoped>\n",
       "    .dataframe tbody tr th:only-of-type {\n",
       "        vertical-align: middle;\n",
       "    }\n",
       "\n",
       "    .dataframe tbody tr th {\n",
       "        vertical-align: top;\n",
       "    }\n",
       "\n",
       "    .dataframe thead th {\n",
       "        text-align: right;\n",
       "    }\n",
       "</style>\n",
       "<table border=\"1\" class=\"dataframe\">\n",
       "  <thead>\n",
       "    <tr style=\"text-align: right;\">\n",
       "      <th></th>\n",
       "      <th>OBJECTID</th>\n",
       "      <th>ADMINFORES</th>\n",
       "      <th>REGION</th>\n",
       "      <th>FORESTNUMB</th>\n",
       "      <th>FORESTORGC</th>\n",
       "      <th>FORESTNAME</th>\n",
       "      <th>GIS_ACRES</th>\n",
       "      <th>SHAPELEN</th>\n",
       "      <th>SHAPEAREA</th>\n",
       "      <th>geometry</th>\n",
       "    </tr>\n",
       "  </thead>\n",
       "  <tbody>\n",
       "    <tr>\n",
       "      <th>0</th>\n",
       "      <td>206935</td>\n",
       "      <td>99010200010343</td>\n",
       "      <td>01</td>\n",
       "      <td>02</td>\n",
       "      <td>0102</td>\n",
       "      <td>Beaverhead-Deerlodge National Forest</td>\n",
       "      <td>3614441.557</td>\n",
       "      <td>38.630359</td>\n",
       "      <td>1.687597</td>\n",
       "      <td>MULTIPOLYGON (((-12589547.709 5807709.533, -12...</td>\n",
       "    </tr>\n",
       "    <tr>\n",
       "      <th>1</th>\n",
       "      <td>206936</td>\n",
       "      <td>99010300010343</td>\n",
       "      <td>01</td>\n",
       "      <td>03</td>\n",
       "      <td>0103</td>\n",
       "      <td>Bitterroot National Forest</td>\n",
       "      <td>1664505.633</td>\n",
       "      <td>12.217248</td>\n",
       "      <td>0.781396</td>\n",
       "      <td>MULTIPOLYGON (((-12716253.349 5785096.466, -12...</td>\n",
       "    </tr>\n",
       "    <tr>\n",
       "      <th>2</th>\n",
       "      <td>206937</td>\n",
       "      <td>99010400010343</td>\n",
       "      <td>01</td>\n",
       "      <td>04</td>\n",
       "      <td>0104</td>\n",
       "      <td>Idaho Panhandle National Forests</td>\n",
       "      <td>2943321.271</td>\n",
       "      <td>31.729553</td>\n",
       "      <td>1.433425</td>\n",
       "      <td>MULTIPOLYGON (((-12989704.935 6084863.79, -129...</td>\n",
       "    </tr>\n",
       "    <tr>\n",
       "      <th>3</th>\n",
       "      <td>206938</td>\n",
       "      <td>99011000010343</td>\n",
       "      <td>01</td>\n",
       "      <td>10</td>\n",
       "      <td>0110</td>\n",
       "      <td>Flathead National Forest</td>\n",
       "      <td>2651682.450</td>\n",
       "      <td>19.359223</td>\n",
       "      <td>1.294017</td>\n",
       "      <td>MULTIPOLYGON (((-12707535.143 6179716.225, -12...</td>\n",
       "    </tr>\n",
       "    <tr>\n",
       "      <th>4</th>\n",
       "      <td>206939</td>\n",
       "      <td>99011100010343</td>\n",
       "      <td>01</td>\n",
       "      <td>11</td>\n",
       "      <td>0111</td>\n",
       "      <td>Custer Gallatin National Forest</td>\n",
       "      <td>3412189.636</td>\n",
       "      <td>25.627171</td>\n",
       "      <td>1.585256</td>\n",
       "      <td>MULTIPOLYGON (((-12244266.412 5727747.148, -12...</td>\n",
       "    </tr>\n",
       "  </tbody>\n",
       "</table>\n",
       "</div>"
      ],
      "text/plain": [
       "   OBJECTID      ADMINFORES REGION FORESTNUMB FORESTORGC  \\\n",
       "0    206935  99010200010343     01         02       0102   \n",
       "1    206936  99010300010343     01         03       0103   \n",
       "2    206937  99010400010343     01         04       0104   \n",
       "3    206938  99011000010343     01         10       0110   \n",
       "4    206939  99011100010343     01         11       0111   \n",
       "\n",
       "                             FORESTNAME    GIS_ACRES   SHAPELEN  SHAPEAREA  \\\n",
       "0  Beaverhead-Deerlodge National Forest  3614441.557  38.630359   1.687597   \n",
       "1            Bitterroot National Forest  1664505.633  12.217248   0.781396   \n",
       "2      Idaho Panhandle National Forests  2943321.271  31.729553   1.433425   \n",
       "3              Flathead National Forest  2651682.450  19.359223   1.294017   \n",
       "4       Custer Gallatin National Forest  3412189.636  25.627171   1.585256   \n",
       "\n",
       "                                            geometry  \n",
       "0  MULTIPOLYGON (((-12589547.709 5807709.533, -12...  \n",
       "1  MULTIPOLYGON (((-12716253.349 5785096.466, -12...  \n",
       "2  MULTIPOLYGON (((-12989704.935 6084863.79, -129...  \n",
       "3  MULTIPOLYGON (((-12707535.143 6179716.225, -12...  \n",
       "4  MULTIPOLYGON (((-12244266.412 5727747.148, -12...  "
      ]
     },
     "execution_count": 22,
     "metadata": {},
     "output_type": "execute_result"
    }
   ],
   "source": [
    "forests_gdf.head()"
   ]
  },
  {
   "cell_type": "code",
   "execution_count": 23,
   "id": "7378bf89-8450-401f-9233-063b867efc9a",
   "metadata": {
    "tags": []
   },
   "outputs": [
    {
     "name": "stdout",
     "output_type": "stream",
     "text": [
      "GeoJSON file saved at: boundary_polygons/boundary_geoJSONs/state_bounds_OR_WA.geojson\n"
     ]
    },
    {
     "data": {
      "image/png": "[encoded data removed]",
      "text/plain": [
       "<Figure size 640x480 with 1 Axes>"
      ]
     },
     "metadata": {},
     "output_type": "display_data"
    }
   ],
   "source": [
    "# Reproject states_gdf into EPSG 3857 Web Mercator\n",
    "states_gdf = states_gdf.to_crs(epsg = 3857)\n",
    "\n",
    "# Create new gdf containing bounds of WA and OR only\n",
    "state_bounds_OR_WA = states_gdf.loc[(states_gdf[\"NAME\"] == \"Washington\") | (states_gdf[\"NAME\"] == \"Oregon\")]\n",
    "state_bounds_OR_WA.plot(facecolor = \"None\")\n",
    "\n",
    "# Define the output file path\n",
    "output_file = os.path.join(boundary_geojsons_path, \"state_bounds_OR_WA.geojson\")\n",
    "\n",
    "# Export to GeoJSON\n",
    "state_bounds_OR_WA.to_file(output_file, driver = \"GeoJSON\")\n",
    "\n",
    "print(f\"GeoJSON file saved at: {output_file}\")"
   ]
  },
  {
   "cell_type": "markdown",
   "id": "2437e3c8-3b61-4848-bd10-988bbf410ee4",
   "metadata": {},
   "source": [
    "## Malheur National Forest boundary"
   ]
  },
  {
   "cell_type": "code",
   "execution_count": 12,
   "id": "dc53e4f6-8353-400c-a610-31587ab2f4fc",
   "metadata": {
    "tags": []
   },
   "outputs": [],
   "source": [
    "pnw_forests = gpd.clip(forests_gdf, state_bounds_OR_WA) # Clip forests to WA and OR state bounds"
   ]
  },
  {
   "cell_type": "code",
   "execution_count": 13,
   "id": "b49ff8bc-4ebe-4b43-b636-d814a62e0d21",
   "metadata": {
    "tags": []
   },
   "outputs": [
    {
     "name": "stdout",
     "output_type": "stream",
     "text": [
      "There are 23 National Forests in Washington and Oregon.\n"
     ]
    }
   ],
   "source": [
    "pnw_forest_count = len(pnw_forests)\n",
    "print(f\"There are {pnw_forest_count} National Forests in Washington and Oregon.\")"
   ]
  },
  {
   "cell_type": "code",
   "execution_count": 14,
   "id": "7e6369d1-1997-4365-9c02-da46cddd5600",
   "metadata": {},
   "outputs": [
    {
     "data": {
      "text/html": [
       "<div>\n",
       "<style scoped>\n",
       "    .dataframe tbody tr th:only-of-type {\n",
       "        vertical-align: middle;\n",
       "    }\n",
       "\n",
       "    .dataframe tbody tr th {\n",
       "        vertical-align: top;\n",
       "    }\n",
       "\n",
       "    .dataframe thead th {\n",
       "        text-align: right;\n",
       "    }\n",
       "</style>\n",
       "<table border=\"1\" class=\"dataframe\">\n",
       "  <thead>\n",
       "    <tr style=\"text-align: right;\">\n",
       "      <th></th>\n",
       "      <th>OBJECTID</th>\n",
       "      <th>ADMINFORES</th>\n",
       "      <th>REGION</th>\n",
       "      <th>FORESTNUMB</th>\n",
       "      <th>FORESTORGC</th>\n",
       "      <th>FORESTNAME</th>\n",
       "      <th>GIS_ACRES</th>\n",
       "      <th>SHAPELEN</th>\n",
       "      <th>SHAPEAREA</th>\n",
       "      <th>geometry</th>\n",
       "    </tr>\n",
       "  </thead>\n",
       "  <tbody>\n",
       "    <tr>\n",
       "      <th>65</th>\n",
       "      <td>207000</td>\n",
       "      <td>99060400010343</td>\n",
       "      <td>06</td>\n",
       "      <td>04</td>\n",
       "      <td>0604</td>\n",
       "      <td>Malheur National Forest</td>\n",
       "      <td>1786533.257</td>\n",
       "      <td>14.733412</td>\n",
       "      <td>0.813817</td>\n",
       "      <td>MULTIPOLYGON (((-13217630.165 5552264.314, -13...</td>\n",
       "    </tr>\n",
       "  </tbody>\n",
       "</table>\n",
       "</div>"
      ],
      "text/plain": [
       "    OBJECTID      ADMINFORES REGION FORESTNUMB FORESTORGC  \\\n",
       "65    207000  99060400010343     06         04       0604   \n",
       "\n",
       "                 FORESTNAME    GIS_ACRES   SHAPELEN  SHAPEAREA  \\\n",
       "65  Malheur National Forest  1786533.257  14.733412   0.813817   \n",
       "\n",
       "                                             geometry  \n",
       "65  MULTIPOLYGON (((-13217630.165 5552264.314, -13...  "
      ]
     },
     "execution_count": 14,
     "metadata": {},
     "output_type": "execute_result"
    }
   ],
   "source": [
    "malheur_bounds = pnw_forests.loc[pnw_forests[\"FORESTNAME\"].str.contains(\"Malheur\", case = False, na = False)] # Return all records where 'FORESTNAME' includes substring 'Malheur', case agnostic\n",
    "malheur_bounds.head() "
   ]
  },
  {
   "cell_type": "code",
   "execution_count": 15,
   "id": "b62979f8-cd18-4e3c-a708-a16792728bb4",
   "metadata": {
    "tags": []
   },
   "outputs": [
    {
     "data": {
      "text/plain": [
       "<Axes: >"
      ]
     },
     "execution_count": 15,
     "metadata": {},
     "output_type": "execute_result"
    },
    {
     "data": {
      "image/png": "[encoded data removed]",
      "text/plain": [
       "<Figure size 640x480 with 1 Axes>"
      ]
     },
     "metadata": {},
     "output_type": "display_data"
    }
   ],
   "source": [
    "malheur_bounds.plot(facecolor = \"None\")"
   ]
  },
  {
   "cell_type": "code",
   "execution_count": 16,
   "id": "3596dff1-7b1e-4a4b-8f52-3a44b9457499",
   "metadata": {
    "tags": []
   },
   "outputs": [
    {
     "name": "stdout",
     "output_type": "stream",
     "text": [
      "GeoJSON file saved at: boundary_geoJSONs/pnw_forest_bounds.geojson\n",
      "GeoJSON file saved at: boundary_geoJSONs/malheur_bounds.geojson\n"
     ]
    }
   ],
   "source": [
    "# Define the output file path\n",
    "pnw_forests_output_file = os.path.join(boundary_geojsons_path, \"pnw_forest_bounds.geojson\")\n",
    "\n",
    "# Export to GeoJSON\n",
    "pnw_forests.to_file(pnw_forests_output_file, driver = \"GeoJSON\")\n",
    "\n",
    "print(f\"GeoJSON file saved at: {pnw_forests_output_file}\")\n",
    "\n",
    "# Define the output file path\n",
    "mnf_output_file = os.path.join(boundary_geojsons_path, \"malheur_bounds.geojson\")\n",
    "\n",
    "# Export to GeoJSON\n",
    "malheur_bounds.to_file(mnf_output_file, driver = \"GeoJSON\")\n",
    "\n",
    "print(f\"GeoJSON file saved at: {mnf_output_file}\")"
   ]
  },
  {
   "cell_type": "code",
   "execution_count": null,
   "id": "5b26fee9-f803-4192-a376-41e4e9846a69",
   "metadata": {},
   "outputs": [],
   "source": []
  }
 ],
 "metadata": {
  "kernelspec": {
   "display_name": "Python 3 (ipykernel)",
   "language": "python",
   "name": "python3"
  },
  "language_info": {
   "codemirror_mode": {
    "name": "ipython",
    "version": 3
   },
   "file_extension": ".py",
   "mimetype": "text/x-python",
   "name": "python",
   "nbconvert_exporter": "python",
   "pygments_lexer": "ipython3",
   "version": "3.11.6"
  }
 },
 "nbformat": 4,
 "nbformat_minor": 5
}
