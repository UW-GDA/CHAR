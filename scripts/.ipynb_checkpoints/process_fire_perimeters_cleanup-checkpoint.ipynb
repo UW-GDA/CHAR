{
 "cells": [
  {
   "cell_type": "markdown",
   "id": "3ce714fa-63eb-45ac-ab09-9c0bf939377b",
   "metadata": {},
   "source": [
    "# Process Historical Fire Perimeters"
   ]
  },
  {
   "cell_type": "markdown",
   "id": "9a0ed919-d3ad-4077-bc7a-67f88715f45e",
   "metadata": {},
   "source": [
    "## Scope"
   ]
  },
  {
   "cell_type": "code",
   "execution_count": 1,
   "id": "172df386-2e5c-4ed7-95c9-445012c67915",
   "metadata": {
    "tags": []
   },
   "outputs": [],
   "source": [
    "import geopandas as gpd\n",
    "import fiona\n",
    "import os\n",
    "import zipfile\n",
    "import rasterio\n",
    "import numpy as np\n",
    "from rasterio.features import rasterize\n",
    "from rasterio.transform import from_origin\n",
    "import pandas as pd\n",
    "import matplotlib.pyplot as plt\n",
    "import matplotlib.patches as mpatches\n",
    "import contextily as ctx\n",
    "import ipywidgets as widgets\n",
    "from IPython.display import display"
   ]
  },
  {
   "cell_type": "markdown",
   "id": "37c6d370-dba9-4c38-a7fa-0bddf1062e16",
   "metadata": {},
   "source": [
    "# Prepare data for processing"
   ]
  },
  {
   "cell_type": "markdown",
   "id": "52907467-36ec-448a-a1e9-9d7c1dd9df16",
   "metadata": {},
   "source": [
    "## Extract and read in fire perimeter vector data"
   ]
  },
  {
   "cell_type": "code",
   "execution_count": 2,
   "id": "704882cf-ed83-4582-aafb-0c3878ee489e",
   "metadata": {},
   "outputs": [],
   "source": [
    "# File paths\n",
    "fire_perimeters_zip_path = r\"C:\\Users\\imire\\OneDrive - UW\\Documents\\GDA567\\disturbance_interaction_analysis\\downloaded_data\\historic_fire_perimeters\\InterAgencyFirePerimeterHistory_All_Years_View.zip\"\n",
    "output_shp_folder_path = r\"C:\\Users\\imire\\OneDrive - UW\\Documents\\GDA567\\disturbance_interaction_analysis\\downloaded_data\\historic_fire_perimeters\"\n",
    "output_mnf_subset_folder_path = r\"C:\\Users\\imire\\OneDrive - UW\\Documents\\GDA567\\disturbance_interaction_analysis\\extracted_mnf_subset\""
   ]
  },
  {
   "cell_type": "code",
   "execution_count": 3,
   "id": "70c0edd0-07a5-4fc6-9519-932d5319f09d",
   "metadata": {
    "tags": []
   },
   "outputs": [],
   "source": [
    "# Define unzip to output location function\n",
    "def unzip_folder(zip_path, extract_to): \n",
    "    with zipfile.ZipFile(zip_path, 'r') as zip_ref:\n",
    "        zip_ref.extractall(extract_to)\n",
    "    print(f\"Extracted to: {extract_to}\")"
   ]
  },
  {
   "cell_type": "code",
   "execution_count": 4,
   "id": "c1ffec99-2e09-4188-8fea-950c3965105d",
   "metadata": {
    "tags": []
   },
   "outputs": [
    {
     "name": "stdout",
     "output_type": "stream",
     "text": [
      "Extracted to: C:\\Users\\imire\\OneDrive - UW\\Documents\\GDA567\\disturbance_interaction_analysis\\downloaded_data\\historic_fire_perimeters\n"
     ]
    }
   ],
   "source": [
    "unzip_folder(fire_perimeters_zip_path, output_shp_folder_path) # Unzip shp"
   ]
  },
  {
   "cell_type": "code",
   "execution_count": 5,
   "id": "5e750582-1a16-4263-82f7-97d1132e97a9",
   "metadata": {
    "tags": []
   },
   "outputs": [],
   "source": [
    "fires_gdf = gpd.read_file(output_shp_folder_path + \"\\\\InterAgencyFirePerimeterHistory_All_Years_View.shp\")"
   ]
  },
  {
   "cell_type": "code",
   "execution_count": 6,
   "id": "463c4ad1-d547-47ff-86ea-57a371a2339f",
   "metadata": {
    "tags": []
   },
   "outputs": [
    {
     "data": {
      "text/html": [
       "<div>\n",
       "<style scoped>\n",
       "    .dataframe tbody tr th:only-of-type {\n",
       "        vertical-align: middle;\n",
       "    }\n",
       "\n",
       "    .dataframe tbody tr th {\n",
       "        vertical-align: top;\n",
       "    }\n",
       "\n",
       "    .dataframe thead th {\n",
       "        text-align: right;\n",
       "    }\n",
       "</style>\n",
       "<table border=\"1\" class=\"dataframe\">\n",
       "  <thead>\n",
       "    <tr style=\"text-align: right;\">\n",
       "      <th></th>\n",
       "      <th>OBJECTID</th>\n",
       "      <th>MAP_METHOD</th>\n",
       "      <th>DATE_CUR</th>\n",
       "      <th>COMMENTS</th>\n",
       "      <th>GEO_ID</th>\n",
       "      <th>IRWINID</th>\n",
       "      <th>UNQE_FIRE_</th>\n",
       "      <th>FIRE_YEAR</th>\n",
       "      <th>LOCAL_NUM</th>\n",
       "      <th>INCIDENT</th>\n",
       "      <th>...</th>\n",
       "      <th>GIS_ACRES</th>\n",
       "      <th>USER_NAME</th>\n",
       "      <th>SOURCE</th>\n",
       "      <th>AGENCY</th>\n",
       "      <th>FIRE_YEAR_</th>\n",
       "      <th>Shape__Are</th>\n",
       "      <th>Shape__Len</th>\n",
       "      <th>FORID</th>\n",
       "      <th>OTHERID</th>\n",
       "      <th>geometry</th>\n",
       "    </tr>\n",
       "  </thead>\n",
       "  <tbody>\n",
       "    <tr>\n",
       "      <th>0</th>\n",
       "      <td>1</td>\n",
       "      <td>Infrared Interpretation</td>\n",
       "      <td>201812200931</td>\n",
       "      <td>None</td>\n",
       "      <td>{F0C1D266-75BB-4CA5-9E6F-F310F5038E23}</td>\n",
       "      <td>None</td>\n",
       "      <td>None</td>\n",
       "      <td>2002</td>\n",
       "      <td>None</td>\n",
       "      <td>MISSIONARY RIDGE</td>\n",
       "      <td>...</td>\n",
       "      <td>70480.83</td>\n",
       "      <td>None</td>\n",
       "      <td>USFS</td>\n",
       "      <td>USFS</td>\n",
       "      <td>2002</td>\n",
       "      <td>4.525708e+08</td>\n",
       "      <td>279658.944677</td>\n",
       "      <td>None</td>\n",
       "      <td>None</td>\n",
       "      <td>MULTIPOLYGON (((-11974175.167 4511483.444, -11...</td>\n",
       "    </tr>\n",
       "    <tr>\n",
       "      <th>1</th>\n",
       "      <td>2</td>\n",
       "      <td>GPS - Uncorrected Data</td>\n",
       "      <td>201812200931</td>\n",
       "      <td>None</td>\n",
       "      <td>{411C4683-1404-4631-B20B-8FD8E73F72C6}</td>\n",
       "      <td>None</td>\n",
       "      <td>2012-COSJF-001108</td>\n",
       "      <td>2012</td>\n",
       "      <td>None</td>\n",
       "      <td>COAL CREEK</td>\n",
       "      <td>...</td>\n",
       "      <td>97.68</td>\n",
       "      <td>None</td>\n",
       "      <td>USFS</td>\n",
       "      <td>USFS</td>\n",
       "      <td>2012</td>\n",
       "      <td>6.264264e+05</td>\n",
       "      <td>5170.317870</td>\n",
       "      <td>None</td>\n",
       "      <td>None</td>\n",
       "      <td>POLYGON ((-11898257.752 4485689.218, -11898245...</td>\n",
       "    </tr>\n",
       "    <tr>\n",
       "      <th>2</th>\n",
       "      <td>3</td>\n",
       "      <td>Digitized-Other</td>\n",
       "      <td>201812200931</td>\n",
       "      <td>None</td>\n",
       "      <td>{FFB2E84B-D807-4F2C-91AC-C50EE9EF702D}</td>\n",
       "      <td>None</td>\n",
       "      <td>None</td>\n",
       "      <td>1998</td>\n",
       "      <td>None</td>\n",
       "      <td>TURKEY CREEK WFU</td>\n",
       "      <td>...</td>\n",
       "      <td>308.54</td>\n",
       "      <td>None</td>\n",
       "      <td>USFS</td>\n",
       "      <td>USFS</td>\n",
       "      <td>1998</td>\n",
       "      <td>1.969943e+06</td>\n",
       "      <td>8067.631188</td>\n",
       "      <td>None</td>\n",
       "      <td>None</td>\n",
       "      <td>POLYGON ((-11957688.186 4465171.969, -11957685...</td>\n",
       "    </tr>\n",
       "    <tr>\n",
       "      <th>3</th>\n",
       "      <td>4</td>\n",
       "      <td>Digitized-Other</td>\n",
       "      <td>201812200931</td>\n",
       "      <td>None</td>\n",
       "      <td>{26F30670-C114-4D34-909E-2751E7B42DC7}</td>\n",
       "      <td>None</td>\n",
       "      <td>2011-COSJF-000213</td>\n",
       "      <td>2011</td>\n",
       "      <td>None</td>\n",
       "      <td>WILDHORSE</td>\n",
       "      <td>...</td>\n",
       "      <td>14.87</td>\n",
       "      <td>None</td>\n",
       "      <td>USFS</td>\n",
       "      <td>USFS</td>\n",
       "      <td>2011</td>\n",
       "      <td>9.653684e+04</td>\n",
       "      <td>1265.594810</td>\n",
       "      <td>None</td>\n",
       "      <td>None</td>\n",
       "      <td>POLYGON ((-12110778.56 4561415.155, -12110786....</td>\n",
       "    </tr>\n",
       "    <tr>\n",
       "      <th>4</th>\n",
       "      <td>5</td>\n",
       "      <td>GPS - Uncorrected Data</td>\n",
       "      <td>201812200931</td>\n",
       "      <td>None</td>\n",
       "      <td>{53630F8B-3263-4442-A60E-5D1A353F04CD}</td>\n",
       "      <td>{67132D49-B7F4-4211-8D72-DC2103A1826B}</td>\n",
       "      <td>2016-COSJF-000444</td>\n",
       "      <td>2016</td>\n",
       "      <td>None</td>\n",
       "      <td>LONG DRAW</td>\n",
       "      <td>...</td>\n",
       "      <td>2142.83</td>\n",
       "      <td>None</td>\n",
       "      <td>USFS</td>\n",
       "      <td>USFS</td>\n",
       "      <td>2016</td>\n",
       "      <td>1.383778e+07</td>\n",
       "      <td>17001.554406</td>\n",
       "      <td>None</td>\n",
       "      <td>None</td>\n",
       "      <td>POLYGON ((-12063543.3 4532611.314, -12063516.5...</td>\n",
       "    </tr>\n",
       "  </tbody>\n",
       "</table>\n",
       "<p>5 rows × 23 columns</p>\n",
       "</div>"
      ],
      "text/plain": [
       "   OBJECTID               MAP_METHOD      DATE_CUR COMMENTS  \\\n",
       "0         1  Infrared Interpretation  201812200931     None   \n",
       "1         2   GPS - Uncorrected Data  201812200931     None   \n",
       "2         3          Digitized-Other  201812200931     None   \n",
       "3         4          Digitized-Other  201812200931     None   \n",
       "4         5   GPS - Uncorrected Data  201812200931     None   \n",
       "\n",
       "                                   GEO_ID  \\\n",
       "0  {F0C1D266-75BB-4CA5-9E6F-F310F5038E23}   \n",
       "1  {411C4683-1404-4631-B20B-8FD8E73F72C6}   \n",
       "2  {FFB2E84B-D807-4F2C-91AC-C50EE9EF702D}   \n",
       "3  {26F30670-C114-4D34-909E-2751E7B42DC7}   \n",
       "4  {53630F8B-3263-4442-A60E-5D1A353F04CD}   \n",
       "\n",
       "                                  IRWINID         UNQE_FIRE_ FIRE_YEAR  \\\n",
       "0                                    None               None      2002   \n",
       "1                                    None  2012-COSJF-001108      2012   \n",
       "2                                    None               None      1998   \n",
       "3                                    None  2011-COSJF-000213      2011   \n",
       "4  {67132D49-B7F4-4211-8D72-DC2103A1826B}  2016-COSJF-000444      2016   \n",
       "\n",
       "  LOCAL_NUM          INCIDENT  ... GIS_ACRES USER_NAME SOURCE  AGENCY  \\\n",
       "0      None  MISSIONARY RIDGE  ...  70480.83      None   USFS    USFS   \n",
       "1      None        COAL CREEK  ...     97.68      None   USFS    USFS   \n",
       "2      None  TURKEY CREEK WFU  ...    308.54      None   USFS    USFS   \n",
       "3      None         WILDHORSE  ...     14.87      None   USFS    USFS   \n",
       "4      None         LONG DRAW  ...   2142.83      None   USFS    USFS   \n",
       "\n",
       "  FIRE_YEAR_    Shape__Are     Shape__Len  FORID  OTHERID  \\\n",
       "0       2002  4.525708e+08  279658.944677   None     None   \n",
       "1       2012  6.264264e+05    5170.317870   None     None   \n",
       "2       1998  1.969943e+06    8067.631188   None     None   \n",
       "3       2011  9.653684e+04    1265.594810   None     None   \n",
       "4       2016  1.383778e+07   17001.554406   None     None   \n",
       "\n",
       "                                            geometry  \n",
       "0  MULTIPOLYGON (((-11974175.167 4511483.444, -11...  \n",
       "1  POLYGON ((-11898257.752 4485689.218, -11898245...  \n",
       "2  POLYGON ((-11957688.186 4465171.969, -11957685...  \n",
       "3  POLYGON ((-12110778.56 4561415.155, -12110786....  \n",
       "4  POLYGON ((-12063543.3 4532611.314, -12063516.5...  \n",
       "\n",
       "[5 rows x 23 columns]"
      ]
     },
     "execution_count": 6,
     "metadata": {},
     "output_type": "execute_result"
    }
   ],
   "source": [
    "fires_gdf.head()"
   ]
  },
  {
   "cell_type": "markdown",
   "id": "3b2a9ccb-8ecf-4134-a803-98b6b88153db",
   "metadata": {},
   "source": [
    "## Clean fire perimeter gdf"
   ]
  },
  {
   "cell_type": "markdown",
   "id": "402585f7-f66e-4895-9a99-ce21fe9cd311",
   "metadata": {},
   "source": [
    "* Ensure \"FIRE_YEAR\" is numeric to allow arithmetic operations.\n",
    "* Remove records associated with invalid years \"0\", \"1\", and \"9999.\"\n",
    "* Check that invalid records were dropped correctly."
   ]
  },
  {
   "cell_type": "code",
   "execution_count": 21,
   "id": "321f454f-79ae-4e21-99b6-001bd3aa9831",
   "metadata": {
    "tags": []
   },
   "outputs": [],
   "source": [
    "# Convert FIRE_YEAR to numeric, handling any errors\n",
    "fires_gdf[\"FIRE_YEAR\"] = pd.to_numeric(fires_gdf[\"FIRE_YEAR\"], errors = \"coerce\") # Convert fire year to numeric\n",
    "\n",
    "# Get unique values as a sorted list\n",
    "unique_years = sorted(fires_gdf[\"FIRE_YEAR\"].unique()) # List unique values of year\n",
    "\n",
    "# Exclude records from invalid years\n",
    "excluded_years = {9999, 1, 0}\n",
    "valid_incidents = fires_gdf[~fires_gdf[\"FIRE_YEAR\"].isin(excluded_years)].sort_values(by = \"FIRE_YEAR\", ascending = True)"
   ]
  },
  {
   "cell_type": "code",
   "execution_count": 22,
   "id": "ff3b2948-592e-4964-815f-7cdb3c0f11ea",
   "metadata": {
    "tags": []
   },
   "outputs": [
    {
     "data": {
      "text/html": [
       "<div>\n",
       "<style scoped>\n",
       "    .dataframe tbody tr th:only-of-type {\n",
       "        vertical-align: middle;\n",
       "    }\n",
       "\n",
       "    .dataframe tbody tr th {\n",
       "        vertical-align: top;\n",
       "    }\n",
       "\n",
       "    .dataframe thead th {\n",
       "        text-align: right;\n",
       "    }\n",
       "</style>\n",
       "<table border=\"1\" class=\"dataframe\">\n",
       "  <thead>\n",
       "    <tr style=\"text-align: right;\">\n",
       "      <th></th>\n",
       "      <th>OBJECTID</th>\n",
       "      <th>MAP_METHOD</th>\n",
       "      <th>DATE_CUR</th>\n",
       "      <th>COMMENTS</th>\n",
       "      <th>GEO_ID</th>\n",
       "      <th>IRWINID</th>\n",
       "      <th>UNQE_FIRE_</th>\n",
       "      <th>FIRE_YEAR</th>\n",
       "      <th>LOCAL_NUM</th>\n",
       "      <th>INCIDENT</th>\n",
       "      <th>...</th>\n",
       "      <th>GIS_ACRES</th>\n",
       "      <th>USER_NAME</th>\n",
       "      <th>SOURCE</th>\n",
       "      <th>AGENCY</th>\n",
       "      <th>FIRE_YEAR_</th>\n",
       "      <th>Shape__Are</th>\n",
       "      <th>Shape__Len</th>\n",
       "      <th>FORID</th>\n",
       "      <th>OTHERID</th>\n",
       "      <th>geometry</th>\n",
       "    </tr>\n",
       "  </thead>\n",
       "  <tbody>\n",
       "    <tr>\n",
       "      <th>12447</th>\n",
       "      <td>12448</td>\n",
       "      <td>Other</td>\n",
       "      <td>200611020000</td>\n",
       "      <td>Year burned determined by PNW using carbon dat...</td>\n",
       "      <td>{A526C90F-6DE2-4296-8643-87B34452311C}</td>\n",
       "      <td>None</td>\n",
       "      <td>None</td>\n",
       "      <td>780</td>\n",
       "      <td>None</td>\n",
       "      <td>UNNAMED</td>\n",
       "      <td>...</td>\n",
       "      <td>9309.31</td>\n",
       "      <td>None</td>\n",
       "      <td>USFS</td>\n",
       "      <td>USFS</td>\n",
       "      <td>780</td>\n",
       "      <td>8.245466e+07</td>\n",
       "      <td>86883.156264</td>\n",
       "      <td>None</td>\n",
       "      <td>None</td>\n",
       "      <td>MULTIPOLYGON (((-13754978.274 6026659.244, -13...</td>\n",
       "    </tr>\n",
       "    <tr>\n",
       "      <th>14219</th>\n",
       "      <td>14220</td>\n",
       "      <td>Other</td>\n",
       "      <td>200611020000</td>\n",
       "      <td>Year burned determined by PNW using carbon dat...</td>\n",
       "      <td>{722D984E-DF48-4A96-AFDF-B938E86FE599}</td>\n",
       "      <td>None</td>\n",
       "      <td>None</td>\n",
       "      <td>1000</td>\n",
       "      <td>None</td>\n",
       "      <td>UNNAMED</td>\n",
       "      <td>...</td>\n",
       "      <td>0.01</td>\n",
       "      <td>None</td>\n",
       "      <td>USFS</td>\n",
       "      <td>USFS</td>\n",
       "      <td>1000</td>\n",
       "      <td>1.154141e+02</td>\n",
       "      <td>85.096169</td>\n",
       "      <td>None</td>\n",
       "      <td>None</td>\n",
       "      <td>POLYGON ((-13508198.41 6097117.203, -13508189....</td>\n",
       "    </tr>\n",
       "    <tr>\n",
       "      <th>2631</th>\n",
       "      <td>2632</td>\n",
       "      <td>Other</td>\n",
       "      <td>200611020000</td>\n",
       "      <td>Year burned determined by PNW using carbon dat...</td>\n",
       "      <td>{D83B067C-4385-4237-83D1-77C5DA8C22BA}</td>\n",
       "      <td>None</td>\n",
       "      <td>None</td>\n",
       "      <td>1000</td>\n",
       "      <td>None</td>\n",
       "      <td>UNNAMED</td>\n",
       "      <td>...</td>\n",
       "      <td>1505.66</td>\n",
       "      <td>None</td>\n",
       "      <td>USFS</td>\n",
       "      <td>USFS</td>\n",
       "      <td>1000</td>\n",
       "      <td>1.380549e+07</td>\n",
       "      <td>18201.888885</td>\n",
       "      <td>None</td>\n",
       "      <td>None</td>\n",
       "      <td>POLYGON ((-13483960.982 6170816.394, -13483983...</td>\n",
       "    </tr>\n",
       "    <tr>\n",
       "      <th>2607</th>\n",
       "      <td>2608</td>\n",
       "      <td>Other</td>\n",
       "      <td>200611020000</td>\n",
       "      <td>Year burned determined by PNW using carbon dat...</td>\n",
       "      <td>{F26FA54D-89EF-414A-80F5-7588A37F2A00}</td>\n",
       "      <td>None</td>\n",
       "      <td>None</td>\n",
       "      <td>1000</td>\n",
       "      <td>None</td>\n",
       "      <td>UNNAMED</td>\n",
       "      <td>...</td>\n",
       "      <td>129.56</td>\n",
       "      <td>None</td>\n",
       "      <td>USFS</td>\n",
       "      <td>USFS</td>\n",
       "      <td>1000</td>\n",
       "      <td>1.210874e+06</td>\n",
       "      <td>5867.130114</td>\n",
       "      <td>None</td>\n",
       "      <td>None</td>\n",
       "      <td>POLYGON ((-13551342.83 6253654.238, -13551442....</td>\n",
       "    </tr>\n",
       "    <tr>\n",
       "      <th>2641</th>\n",
       "      <td>2642</td>\n",
       "      <td>Other</td>\n",
       "      <td>200611020000</td>\n",
       "      <td>Year burned determined by PNW using carbon dat...</td>\n",
       "      <td>{92B942E5-4D9D-4610-9961-69B7D512740B}</td>\n",
       "      <td>None</td>\n",
       "      <td>None</td>\n",
       "      <td>1000</td>\n",
       "      <td>None</td>\n",
       "      <td>UNNAMED</td>\n",
       "      <td>...</td>\n",
       "      <td>2991.72</td>\n",
       "      <td>None</td>\n",
       "      <td>USFS</td>\n",
       "      <td>USFS</td>\n",
       "      <td>1000</td>\n",
       "      <td>2.718905e+07</td>\n",
       "      <td>31025.996617</td>\n",
       "      <td>None</td>\n",
       "      <td>None</td>\n",
       "      <td>POLYGON ((-13465336.552 6132079.277, -13465324...</td>\n",
       "    </tr>\n",
       "  </tbody>\n",
       "</table>\n",
       "<p>5 rows × 23 columns</p>\n",
       "</div>"
      ],
      "text/plain": [
       "       OBJECTID MAP_METHOD      DATE_CUR  \\\n",
       "12447     12448      Other  200611020000   \n",
       "14219     14220      Other  200611020000   \n",
       "2631       2632      Other  200611020000   \n",
       "2607       2608      Other  200611020000   \n",
       "2641       2642      Other  200611020000   \n",
       "\n",
       "                                                COMMENTS  \\\n",
       "12447  Year burned determined by PNW using carbon dat...   \n",
       "14219  Year burned determined by PNW using carbon dat...   \n",
       "2631   Year burned determined by PNW using carbon dat...   \n",
       "2607   Year burned determined by PNW using carbon dat...   \n",
       "2641   Year burned determined by PNW using carbon dat...   \n",
       "\n",
       "                                       GEO_ID IRWINID UNQE_FIRE_  FIRE_YEAR  \\\n",
       "12447  {A526C90F-6DE2-4296-8643-87B34452311C}    None       None        780   \n",
       "14219  {722D984E-DF48-4A96-AFDF-B938E86FE599}    None       None       1000   \n",
       "2631   {D83B067C-4385-4237-83D1-77C5DA8C22BA}    None       None       1000   \n",
       "2607   {F26FA54D-89EF-414A-80F5-7588A37F2A00}    None       None       1000   \n",
       "2641   {92B942E5-4D9D-4610-9961-69B7D512740B}    None       None       1000   \n",
       "\n",
       "      LOCAL_NUM INCIDENT  ... GIS_ACRES USER_NAME SOURCE  AGENCY FIRE_YEAR_  \\\n",
       "12447      None  UNNAMED  ...   9309.31      None   USFS    USFS        780   \n",
       "14219      None  UNNAMED  ...      0.01      None   USFS    USFS       1000   \n",
       "2631       None  UNNAMED  ...   1505.66      None   USFS    USFS       1000   \n",
       "2607       None  UNNAMED  ...    129.56      None   USFS    USFS       1000   \n",
       "2641       None  UNNAMED  ...   2991.72      None   USFS    USFS       1000   \n",
       "\n",
       "         Shape__Are    Shape__Len  FORID  OTHERID  \\\n",
       "12447  8.245466e+07  86883.156264   None     None   \n",
       "14219  1.154141e+02     85.096169   None     None   \n",
       "2631   1.380549e+07  18201.888885   None     None   \n",
       "2607   1.210874e+06   5867.130114   None     None   \n",
       "2641   2.718905e+07  31025.996617   None     None   \n",
       "\n",
       "                                                geometry  \n",
       "12447  MULTIPOLYGON (((-13754978.274 6026659.244, -13...  \n",
       "14219  POLYGON ((-13508198.41 6097117.203, -13508189....  \n",
       "2631   POLYGON ((-13483960.982 6170816.394, -13483983...  \n",
       "2607   POLYGON ((-13551342.83 6253654.238, -13551442....  \n",
       "2641   POLYGON ((-13465336.552 6132079.277, -13465324...  \n",
       "\n",
       "[5 rows x 23 columns]"
      ]
     },
     "execution_count": 22,
     "metadata": {},
     "output_type": "execute_result"
    }
   ],
   "source": [
    "valid_incidents.head()"
   ]
  },
  {
   "cell_type": "code",
   "execution_count": 20,
   "id": "3bb6e475-8749-4bd3-aed4-63678283ea54",
   "metadata": {
    "tags": []
   },
   "outputs": [
    {
     "name": "stdout",
     "output_type": "stream",
     "text": [
      "The NIFC Historic Fire Perimeter dataset contains 116365 records of which 116055 are labeled with a valid year.\n",
      "The oldest valid record is for the UNNAMED incident 780. \n",
      "The newest valid record is for the Oak incident in 2023.\n",
      "\n"
     ]
    }
   ],
   "source": [
    "# Check valid incidents gdf\n",
    "data_summary = {\n",
    "    \"all_records_count\": len(fires_gdf),\n",
    "    \"valid_records_count\": len(valid_incidents),\n",
    "    \"first_incident\": valid_incidents.iloc[0][\"INCIDENT\"],\n",
    "    \"first_fire_year\": valid_incidents.iloc[0][\"FIRE_YEAR\"],\n",
    "    \"last_incident\": valid_incidents.iloc[-1][\"INCIDENT\"],\n",
    "    \"last_fire_year\": valid_incidents.iloc[-1][\"FIRE_YEAR\"]\n",
    "}\n",
    "\n",
    "summary_text = '''The NIFC Historic Fire Perimeter dataset contains {all_records_count} records of which {valid_records_count} are labeled with a valid year.\n",
    "The oldest valid record is for the {first_incident} incident {first_fire_year}. \n",
    "The newest valid record is for the {last_incident} incident in {last_fire_year}.\n",
    "'''.format(**data_summary)\n",
    "\n",
    "print(summary_text)"
   ]
  },
  {
   "cell_type": "markdown",
   "id": "0f80947e-165b-4d03-921e-7e1ad1706684",
   "metadata": {},
   "source": [
    "## Prepare to subset fires_gdf"
   ]
  },
  {
   "cell_type": "markdown",
   "id": "ef469cc2-e2a4-4ca4-a9ca-989059026ce0",
   "metadata": {},
   "source": [
    "* Extract all perimeters intersecting the boundary of Malheur National Forest (MNF).\n",
    "* Write perimeter features intersecting MNF to a GeoJSON."
   ]
  },
  {
   "cell_type": "code",
   "execution_count": 28,
   "id": "9d20a544-7303-4c1a-876b-f12461017d12",
   "metadata": {
    "tags": []
   },
   "outputs": [],
   "source": [
    "mnf_bounds_gdf = gpd.read_file(r\"C:\\Users\\imire\\OneDrive - UW\\Documents\\GDA567\\boundary_geoJSONs\\malheur_bounds.geojson\") # Read in gdf with Malheur National Forest boundary"
   ]
  },
  {
   "cell_type": "code",
   "execution_count": 29,
   "id": "9f14f48b-9350-4207-af4e-6f57cbf20252",
   "metadata": {
    "tags": []
   },
   "outputs": [
    {
     "data": {
      "text/html": [
       "<div>\n",
       "<style scoped>\n",
       "    .dataframe tbody tr th:only-of-type {\n",
       "        vertical-align: middle;\n",
       "    }\n",
       "\n",
       "    .dataframe tbody tr th {\n",
       "        vertical-align: top;\n",
       "    }\n",
       "\n",
       "    .dataframe thead th {\n",
       "        text-align: right;\n",
       "    }\n",
       "</style>\n",
       "<table border=\"1\" class=\"dataframe\">\n",
       "  <thead>\n",
       "    <tr style=\"text-align: right;\">\n",
       "      <th></th>\n",
       "      <th>OBJECTID</th>\n",
       "      <th>ADMINFORES</th>\n",
       "      <th>REGION</th>\n",
       "      <th>FORESTNUMB</th>\n",
       "      <th>FORESTORGC</th>\n",
       "      <th>FORESTNAME</th>\n",
       "      <th>GIS_ACRES</th>\n",
       "      <th>SHAPELEN</th>\n",
       "      <th>SHAPEAREA</th>\n",
       "      <th>geometry</th>\n",
       "    </tr>\n",
       "  </thead>\n",
       "  <tbody>\n",
       "    <tr>\n",
       "      <th>0</th>\n",
       "      <td>207000</td>\n",
       "      <td>99060400010343</td>\n",
       "      <td>06</td>\n",
       "      <td>04</td>\n",
       "      <td>0604</td>\n",
       "      <td>Malheur National Forest</td>\n",
       "      <td>1786533.257</td>\n",
       "      <td>14.733412</td>\n",
       "      <td>0.813817</td>\n",
       "      <td>MULTIPOLYGON (((-13217630.165 5552264.314, -13...</td>\n",
       "    </tr>\n",
       "  </tbody>\n",
       "</table>\n",
       "</div>"
      ],
      "text/plain": [
       "   OBJECTID      ADMINFORES REGION FORESTNUMB FORESTORGC  \\\n",
       "0    207000  99060400010343     06         04       0604   \n",
       "\n",
       "                FORESTNAME    GIS_ACRES   SHAPELEN  SHAPEAREA  \\\n",
       "0  Malheur National Forest  1786533.257  14.733412   0.813817   \n",
       "\n",
       "                                            geometry  \n",
       "0  MULTIPOLYGON (((-13217630.165 5552264.314, -13...  "
      ]
     },
     "execution_count": 29,
     "metadata": {},
     "output_type": "execute_result"
    }
   ],
   "source": [
    "mnf_bounds_gdf.head()"
   ]
  },
  {
   "cell_type": "code",
   "execution_count": 30,
   "id": "98f5209e-6f39-4e1a-8bae-09233466a7e6",
   "metadata": {
    "tags": []
   },
   "outputs": [
    {
     "data": {
      "text/plain": [
       "Index(['OBJECTID', 'ADMINFORES', 'REGION', 'FORESTNUMB', 'FORESTORGC',\n",
       "       'FORESTNAME', 'GIS_ACRES', 'SHAPELEN', 'SHAPEAREA', 'geometry'],\n",
       "      dtype='object')"
      ]
     },
     "execution_count": 30,
     "metadata": {},
     "output_type": "execute_result"
    }
   ],
   "source": [
    "mnf_bounds_gdf.columns"
   ]
  },
  {
   "cell_type": "code",
   "execution_count": 31,
   "id": "31e2b03c-adf1-4a3f-bfde-9b5c09941abf",
   "metadata": {
    "tags": []
   },
   "outputs": [],
   "source": [
    "### Put this step in the initial forest admin boundary extraction\n",
    "mnf_bounds_gdf = mnf_bounds_gdf[[\"FORESTNAME\", \"geometry\"]] # Drop all columns other than FORESTNAME and geometry"
   ]
  },
  {
   "cell_type": "code",
   "execution_count": 32,
   "id": "ca1fd44b-201d-4cb3-99fd-3250d5948ea6",
   "metadata": {
    "tags": []
   },
   "outputs": [
    {
     "name": "stdout",
     "output_type": "stream",
     "text": [
      "Both datasets are in EPSG:3857.\n"
     ]
    }
   ],
   "source": [
    "# Make sure CRS of mnf_bounds_gdf and fires_gdf are the same\n",
    "if mnf_bounds_gdf.crs == fires_gdf.crs:\n",
    "    print(\"Both datasets are in \" + str(mnf_bounds_gdf.crs) + \".\")\n",
    "else:\n",
    "    print(\"Datasets are not in same CRS.\")\n",
    "\n",
    "# Both already in Web Mercator"
   ]
  },
  {
   "cell_type": "markdown",
   "id": "8f9aea44-b65b-4b35-b30f-85438e19ab21",
   "metadata": {},
   "source": [
    "## Filter fires_gdf to include only fires that overlap the Malheur NF boundary"
   ]
  },
  {
   "cell_type": "code",
   "execution_count": 33,
   "id": "96c15c29-f484-4202-b2fb-b1f827ce937e",
   "metadata": {
    "tags": []
   },
   "outputs": [],
   "source": [
    "# Perform spatial join to subset valid fires that overlapped the Malheur NF boundary\n",
    "mnf_fires_all = gpd.sjoin(valid_incidents, mnf_bounds_gdf, how = \"left\", predicate = \"intersects\")\n",
    "mnf_fires_all = mnf_fires_all[mnf_fires_all[\"FORESTNAME\"] == \"Malheur National Forest\"].sort_values(by = \"FIRE_YEAR\", ascending = True)"
   ]
  },
  {
   "cell_type": "code",
   "execution_count": 34,
   "id": "cc7319c9-c036-4bda-8645-5ba20c5a22f5",
   "metadata": {},
   "outputs": [
    {
     "data": {
      "text/plain": [
       "Index(['OBJECTID', 'MAP_METHOD', 'DATE_CUR', 'COMMENTS', 'GEO_ID', 'IRWINID',\n",
       "       'UNQE_FIRE_', 'FIRE_YEAR', 'LOCAL_NUM', 'INCIDENT', 'UNIT_ID',\n",
       "       'POO_RESP_I', 'FEATURE_CA', 'GIS_ACRES', 'USER_NAME', 'SOURCE',\n",
       "       'AGENCY', 'FIRE_YEAR_', 'Shape__Are', 'Shape__Len', 'FORID', 'OTHERID',\n",
       "       'geometry', 'index_right', 'FORESTNAME'],\n",
       "      dtype='object')"
      ]
     },
     "execution_count": 34,
     "metadata": {},
     "output_type": "execute_result"
    }
   ],
   "source": [
    "mnf_fires_all.columns"
   ]
  },
  {
   "cell_type": "code",
   "execution_count": 35,
   "id": "dec5d479-7cde-48db-b6b8-35d4be19d069",
   "metadata": {
    "tags": []
   },
   "outputs": [],
   "source": [
    "mnf_record_count = len(mnf_fires_all)\n",
    "mnf_first_fire_year = mnf_fires_all.iloc[0][\"FIRE_YEAR\"]\n",
    "mnf_first_incident = mnf_fires_all.iloc[0][\"INCIDENT\"]\n",
    "mnf_last_fire_year = mnf_fires_all.iloc[-1][\"FIRE_YEAR\"]\n",
    "mnf_last_incident = mnf_fires_all.iloc[-1][\"INCIDENT\"]"
   ]
  },
  {
   "cell_type": "code",
   "execution_count": 36,
   "id": "37672a76-f585-4875-865a-9b40dd34a8a2",
   "metadata": {
    "tags": []
   },
   "outputs": [
    {
     "name": "stdout",
     "output_type": "stream",
     "text": [
      "The NIFC Historic Fire Perimeter dataset contains 216 valid records of fires with perimeters overlapping the Malneur National Forest boundary.\n",
      "The oldest record is for the 1910 Fire 28 incident in 1910. \n",
      "The newest record is for the Lost Spring incident in 2023.\n",
      "\n"
     ]
    }
   ],
   "source": [
    "# Define the dictionary with string keys\n",
    "data_summary = {\n",
    "    \"mnf_record_count\" :  mnf_record_count,\n",
    "    \"mnf_first_incident\": mnf_first_incident,\n",
    "    \"mnf_first_fire_year\": mnf_first_fire_year,\n",
    "    \"mnf_last_incident\": mnf_last_incident,\n",
    "    \"mnf_last_fire_year\": mnf_last_fire_year\n",
    "}\n",
    "\n",
    "# Format the text correctly\n",
    "summary_text = '''The NIFC Historic Fire Perimeter dataset contains {mnf_record_count} valid records of fires with perimeters overlapping the Malneur National Forest boundary.\n",
    "The oldest record is for the {mnf_first_incident} incident in {mnf_first_fire_year}. \n",
    "The newest record is for the {mnf_last_incident} incident in {mnf_last_fire_year}.\n",
    "'''.format(**data_summary)\n",
    "\n",
    "# Print the formatted text\n",
    "print(summary_text)"
   ]
  },
  {
   "cell_type": "code",
   "execution_count": 37,
   "id": "64e62297-5f03-4563-b74a-e4f8eefd5d0f",
   "metadata": {
    "tags": []
   },
   "outputs": [
    {
     "data": {
      "image/png": "[encoded data removed]",
      "text/plain": [
       "<Figure size 1200x600 with 1 Axes>"
      ]
     },
     "metadata": {},
     "output_type": "display_data"
    }
   ],
   "source": [
    "# Group by year and count occurrences\n",
    "fires_per_year = mnf_fires_all.groupby('FIRE_YEAR').size().reset_index(name = 'count')\n",
    "\n",
    "year_range = pd.DataFrame({'FIRE_YEAR': range(1910, 2024)})\n",
    "fires_per_year = year_range.merge(fires_per_year, on=\"FIRE_YEAR\", how=\"left\").fillna(0)\n",
    "fires_per_year[\"count\"] = fires_per_year[\"count\"].astype(int)\n",
    "\n",
    "\n",
    "plt.figure(figsize=(12, 6))\n",
    "plt.bar(fires_per_year[\"FIRE_YEAR\"], fires_per_year[\"count\"])\n",
    "plt.xlabel(\"Year\")\n",
    "plt.ylabel(\"Fire Count\")\n",
    "plt.title(\"Number of Fires Per Year (1910-2023)\")\n",
    "tick_positions = np.arange(1910, 2025, 5)  # Every 5 years\n",
    "plt.xticks(tick_positions, rotation=45)\n",
    "plt.grid(axis=\"y\", linestyle=\"--\", alpha=0.7)\n",
    "plt.show()"
   ]
  },
  {
   "cell_type": "markdown",
   "id": "350c2d56-bbd6-4c76-ba2a-9dc75e2e8c00",
   "metadata": {},
   "source": [
    "The fires in 1910 and 1939 are well recorded and have sizable overlap with later fires, so they weill be kept in the dataset. However, the absence of records for the intervening years between records, especially prior to the 1950s, should not be assumed to indicate a lack of fire but instead a potential lack of /recorded/ fire. While the larger dataset does include fires going back to the 8th century mapped using carbon dating, there very well may be fires that occured within Malheur that went unrecorded or even unnoticed. While Malheur was designated a National Forest in 1908, it was not exactly a hot destination for recreators at the time. Future studies of historical sources or further investigation of natural markers of fire history (e.g., fire scars, pollen record, soil cores) may reveal unknown fires. \n",
    "\n",
    "However, it is also likely that there were in fact few to zero fires in the early 20th century due to the aggressive fire exclusion and suppression approaches to forest management employed by the Forest Service. Ultimately, it may not be possible to ever consider this dataset truly complete or known how close to complete it actually is. That being said, it is a rich source of spatially explicit data that allows us to begin untangling complex interactions between disturbance agents on a landscape. "
   ]
  },
  {
   "cell_type": "markdown",
   "id": "0f1fc8f5-98a2-4850-b3f6-017ed998817e",
   "metadata": {},
   "source": [
    "## QA/QC fire perimeters in mnf_fires_all"
   ]
  },
  {
   "cell_type": "code",
   "execution_count": 38,
   "id": "8c265ebc-baf9-42d6-b064-545cd73ea4cf",
   "metadata": {},
   "outputs": [
    {
     "data": {
      "text/plain": [
       "'Since we are planning to calculate spatial statistics based on the frequency of and time between fires, we need to make sure that there are no duplicate records skewing the stats.\\nThis dataset has a known issue with duplicate perimeters submitted by different agencies (usually USFS and BLM) with slightly different incident names, calculated areas, and shapes. \\nThe QA/QC steps in this section are aimed at weeding out as many of those duplicates as possible without manual review of all 216 records. First, we identify all features in \\nmnf_fires_all that overlap another feature in the dataset. From these, records with the same \"INCIDENT\" and \"FIRE_YEAR\" are culled, keeping the first record; preference is given to records submitted by the USFS\\nwhere available as they are the primary fire managers in the region of interest and maintain many of the current fire perimeter datasets that this one is derived from. Next, the remaining overlapping features \\nare \\n '"
      ]
     },
     "execution_count": 38,
     "metadata": {},
     "output_type": "execute_result"
    }
   ],
   "source": [
    "'''Since we are planning to calculate spatial statistics based on the frequency of and time between fires, we need to make sure that there are no duplicate records skewing the stats.\n",
    "This dataset has a known issue with duplicate perimeters submitted by different agencies (usually USFS and BLM) with slightly different incident names, calculated areas, and shapes. \n",
    "The QA/QC steps in this section are aimed at weeding out as many of those duplicates as possible without manual review of all 216 records. First, we identify all features in \n",
    "mnf_fires_all that overlap another feature in the dataset. From these, records with the same \"INCIDENT\" and \"FIRE_YEAR\" are culled, keeping the first record; preference is given to records submitted by the USFS\n",
    "where available as they are the primary fire managers in the region of interest and maintain many of the current fire perimeter datasets that this one is derived from. Next, the remaining overlapping features \n",
    "are \n",
    " '''\n"
   ]
  },
  {
   "cell_type": "code",
   "execution_count": null,
   "id": "0c19ba34-9086-4bba-9ac3-d93e4f538d8d",
   "metadata": {
    "tags": []
   },
   "outputs": [],
   "source": [
    "# Define colors\n",
    "fill_color = \"#CC5500\"  # Burnt Orange (fire perimeters)\n",
    "edge_color = \"#993300\"  # Dark Orange (fire outlines)\n",
    "boundary_edge_color = \"#006400\"  # Dark Green (Malheur boundary)\n",
    "\n",
    "# Ensure GeoDataFrames are in Web Mercator (EPSG:3857) for basemap compatibility\n",
    "mnf_fires_all = mnf_fires_all.to_crs(epsg=3857)\n",
    "mnf_bounds_gdf = mnf_bounds_gdf.to_crs(epsg=3857)\n",
    "\n",
    "# Create the figure and axis\n",
    "fig, ax = plt.subplots(figsize=(10, 8))\n",
    "\n",
    "# Plot the fire perimeters\n",
    "mnf_fires_all.plot(ax=ax, color=fill_color, edgecolor=edge_color, alpha=0.6, linewidth=0.8)\n",
    "\n",
    "# Plot Malheur National Forest boundary with no fill, only dark green outline\n",
    "mnf_bounds_gdf.plot(ax=ax, color=\"none\", edgecolor=boundary_edge_color, linewidth=2)\n",
    "\n",
    "# Add basemap\n",
    "ctx.add_basemap(ax, source=ctx.providers.OpenStreetMap.Mapnik, zoom=10, alpha=0.8)\n",
    "\n",
    "# Add a custom legend\n",
    "legend_patches = [\n",
    "    mpatches.Patch(color=fill_color, label=\"Incident Perimeter\", alpha=0.6, edgecolor=edge_color),\n",
    "    mpatches.Patch(color=\"none\", edgecolor=boundary_edge_color, label=\"Malheur National Forest Boundary\", linewidth=2)\n",
    "]\n",
    "ax.legend(handles=legend_patches, loc=\"upper right\")\n",
    "\n",
    "# Title and axis labels\n",
    "ax.set_title(\"All Malheur National Forest Fire Incidents (1910-2023)\", fontsize=14)\n",
    "\n",
    "# Remove axis labels (optional, since basemap provides context)\n",
    "ax.set_xticks([])\n",
    "ax.set_yticks([])\n",
    "\n",
    "# Show plot\n",
    "plt.show()"
   ]
  },
  {
   "cell_type": "code",
   "execution_count": null,
   "id": "28a88270-c09e-4343-9b3b-d569b70ec7c6",
   "metadata": {
    "tags": []
   },
   "outputs": [],
   "source": [
    "mnf_fires_cleaned = mnf_fires_all.sort_values(\"GIS_ACRES\", ascending=False).drop_duplicates(subset = [\"INCIDENT\", \"FIRE_YEAR\"], keep = \"first\") # Drop records with identical name and year. Retain record with the largest area (GIS_ACRES)."
   ]
  },
  {
   "cell_type": "code",
   "execution_count": null,
   "id": "d99f3057-ab4b-46fc-bd4b-8081ee70c8a8",
   "metadata": {
    "tags": []
   },
   "outputs": [],
   "source": [
    "def find_overlapping_fires(df):\n",
    "    \"\"\"\n",
    "    Identifies overlapping fire records where 'FIRE_YEAR' matches \n",
    "    and geometries intersect, returning a GeoDataFrame.\n",
    "    \n",
    "    :param df: GeoDataFrame with 'FIRE_YEAR', 'INCIDENT', 'AGENCY', 'GIS_ACRES_left', and 'geometry' columns\n",
    "    :return: GeoDataFrame of overlapping fire pairs\n",
    "    \"\"\"\n",
    "    potential_overlaps = []\n",
    "\n",
    "    # Ensure the GeoDataFrame has a spatial index for faster spatial queries\n",
    "    df = df.copy()\n",
    "    df = df.set_geometry(\"geometry\")\n",
    "\n",
    "    for i, fire in df.iterrows():\n",
    "        overlapping_fires = df[(df['FIRE_YEAR'] == fire['FIRE_YEAR']) & (df.index != i) & (df.intersects(fire.geometry))]\n",
    "\n",
    "        for _, overlap in overlapping_fires.iterrows():\n",
    "            potential_overlaps.append({\n",
    "                \"FIRE_YEAR\": fire['FIRE_YEAR'],\n",
    "                \"INCIDENT_1\": fire['INCIDENT'],\n",
    "                \"AGENCY_1\": fire['AGENCY'],\n",
    "                \"GIS_ACRES_1\": fire['GIS_ACRES'],\n",
    "                \"INCIDENT_2\": overlap['INCIDENT'],\n",
    "                \"AGENCY_2\": overlap['AGENCY'],\n",
    "                \"GIS_ACRES_2\": overlap['GIS_ACRES'],\n",
    "                \"geometry_1\": fire['geometry'],\n",
    "                \"geometry_2\": overlap['geometry']\n",
    "            })\n",
    "\n",
    "    # Convert to GeoDataFrame\n",
    "    gdf_overlaps = gpd.GeoDataFrame(potential_overlaps, geometry=\"geometry_1\", crs=df.crs)\n",
    "    return gdf_overlaps\n",
    "\n",
    "overlapping_fires_gdf = find_overlapping_fires(mnf_fires_cleaned)\n",
    "overlapping_fires_gdf "
   ]
  },
  {
   "cell_type": "code",
   "execution_count": null,
   "id": "e969a50f-dd3e-4167-a1d6-1043963fbecd",
   "metadata": {
    "tags": []
   },
   "outputs": [],
   "source": [
    "# Define color mapping for agencies\n",
    "agency_colors = {\n",
    "    \"USFS\": \"lightblue\",\n",
    "    \"CAL FIRE\": \"lightcoral\",\n",
    "    \"NPS\": \"lightgreen\",\n",
    "    \"BLM\": \"gold\",\n",
    "    \"BIA\": \"purple\"\n",
    "}\n",
    "\n",
    "def plot_feature_pair(geo1, geo2, incident1, incident2, agency1, agency2):\n",
    "    \"\"\"\n",
    "    Plots two overlapping fire features with:\n",
    "    - Colors based on AGENCY\n",
    "    - Normal cross-hatching for all INCIDENTS\n",
    "    - Legends positioned outside the plot for better clarity\n",
    "    \"\"\"\n",
    "    fig, ax = plt.subplots(figsize=(8, 8), constrained_layout=True)  # Increased figure size & auto-layout\n",
    "    \n",
    "    # Get colors for each agency\n",
    "    color1 = agency_colors.get(agency1, \"gray\")\n",
    "    color2 = agency_colors.get(agency2, \"gray\")\n",
    "\n",
    "    # Plot first geometry\n",
    "    gpd.GeoSeries(geo1).plot(ax=ax, facecolor=color1, edgecolor=\"black\", alpha=0.7, hatch=\"xx\", label=f\"{incident1} ({agency1})\")\n",
    "\n",
    "    # Plot second geometry\n",
    "    gpd.GeoSeries(geo2).plot(ax=ax, facecolor=color2, edgecolor=\"black\", alpha=0.7, label=f\"{incident2} ({agency2})\")\n",
    "\n",
    "    # Set title with padding\n",
    "    ax.set_title(f\"Overlapping Fires: {incident1} vs {incident2}\", pad=20)\n",
    "\n",
    "    # Create agency color legend\n",
    "    agency_patches = [mpatches.Patch(color=color, label=agency) for agency, color in agency_colors.items()]\n",
    "    agency_legend = ax.legend(handles=agency_patches, title=\"AGENCY Colors\", loc=\"upper left\", bbox_to_anchor=(1.05, 1))  # Move legend outside\n",
    "\n",
    "    # Add hatching legend separately\n",
    "    hatch_patch = mpatches.Patch(facecolor=\"white\", edgecolor=\"black\", hatch=\"xx\", label=\"Hatch = INCIDENT Type\")\n",
    "    hatch_legend = ax.legend(handles=[hatch_patch], title=\"INCIDENT Hatching\", loc=\"lower left\", bbox_to_anchor=(1.05, 0))  # Move hatching legend outside\n",
    "\n",
    "    ax.add_artist(agency_legend)  # Ensure the first legend stays\n",
    "\n",
    "    plt.show()\n",
    "\n",
    "def display_feature_pairs(gdf):\n",
    "    \"\"\"\n",
    "    Creates a widget to interactively view overlapping fire features in pairs.\n",
    "    \"\"\"\n",
    "    pair_options = [(f\"Pair {i+1}: {row['INCIDENT_1']} vs {row['INCIDENT_2']}\", i) for i, row in gdf.iterrows()]\n",
    "    \n",
    "    dropdown = widgets.Dropdown(\n",
    "        options=pair_options,\n",
    "        description=\"Feature Pair:\",\n",
    "        style={'description_width': 'initial'},\n",
    "        layout=widgets.Layout(width=\"50%\")\n",
    "    )\n",
    "\n",
    "    output = widgets.Output()\n",
    "\n",
    "    def update_plot(change):\n",
    "        output.clear_output()\n",
    "        with output:\n",
    "            selected_index = dropdown.value\n",
    "            selected_pair = gdf.iloc[selected_index]\n",
    "            plot_feature_pair(\n",
    "                selected_pair['geometry_1'], selected_pair['geometry_2'],\n",
    "                selected_pair['INCIDENT_1'], selected_pair['INCIDENT_2'],\n",
    "                selected_pair['AGENCY_1'], selected_pair['AGENCY_2']\n",
    "            )\n",
    "\n",
    "    dropdown.observe(update_plot, names='value')\n",
    "\n",
    "    display(dropdown, output)\n",
    "    \n",
    "    # Show the first pair by default\n",
    "    update_plot({'name': 'value', 'new': 0})\n",
    "\n",
    "# Run the widget to visualize pairs\n",
    "display_feature_pairs(overlapping_fires_gdf)"
   ]
  },
  {
   "cell_type": "code",
   "execution_count": null,
   "id": "e5da748f-1db9-4664-9dea-3aac979cba74",
   "metadata": {
    "tags": []
   },
   "outputs": [],
   "source": [
    "drop_list = ['Canyon Creek Complex','Pine Springs Basin', 'South Fork', 'Egley Complex', 'Rail', 'Buck Spr', \n",
    "             'IRONSIDE', 'POWDER', 'Whiting Sp', '0848', 'Wolf Creek EC 81', 'Slide Mountain', 'BOX', 'OR-MAF-2011-11297', 'LITTLE WOLF', '#7176']\n",
    "             \n",
    "\n",
    "# Default to USFS polygon unless significantly smaller than other polygon.\n",
    "# Corral Basin and Snowshoe have different shapes but are from the same year and agency (1990, USFS). \n",
    "# Egley and Bear Canyon are a great example of why visual review is important; they intersect, are close to the same size, and are from the same year but are in fact two separate incidents."
   ]
  },
  {
   "cell_type": "code",
   "execution_count": null,
   "id": "07a4030c-32d9-4bea-8535-ce609ee42372",
   "metadata": {
    "tags": []
   },
   "outputs": [],
   "source": [
    "mnf_fires_cleaned = mnf_fires_cleaned[~mnf_fires_cleaned[\"INCIDENT\"].isin(drop_list)] # Drop all records for incidents in drop list"
   ]
  },
  {
   "cell_type": "code",
   "execution_count": null,
   "id": "92452de3-6667-4fae-bd24-516e83063518",
   "metadata": {
    "tags": []
   },
   "outputs": [],
   "source": [
    "mnf_fires_cleaned"
   ]
  },
  {
   "cell_type": "code",
   "execution_count": null,
   "id": "e4372aa8-d164-4c92-b4b4-25938afc70b6",
   "metadata": {},
   "outputs": [],
   "source": [
    "# 163 incidents remain after cleaning"
   ]
  },
  {
   "cell_type": "code",
   "execution_count": null,
   "id": "1a29c0b5-d78f-4059-898c-999d6d06df8b",
   "metadata": {
    "tags": []
   },
   "outputs": [],
   "source": [
    "# Define colors\n",
    "fill_color = \"#CC5500\"  # Burnt Orange (fire perimeters)\n",
    "edge_color = \"#993300\"  # Dark Orange (fire outlines)\n",
    "boundary_edge_color = \"#006400\"  # Dark Green (Malheur boundary)\n",
    "\n",
    "# Create the figure and axis\n",
    "fig, ax = plt.subplots(figsize=(10, 8))\n",
    "\n",
    "# Plot the fire perimeters\n",
    "mnf_fires_cleaned.plot(ax=ax, color=fill_color, edgecolor=edge_color, alpha=0.6, linewidth=0.8)\n",
    "\n",
    "# Plot Malheur National Forest boundary with no fill, only dark green outline\n",
    "mnf_bounds_gdf.plot(ax=ax, color=\"none\", edgecolor=boundary_edge_color, linewidth=2)\n",
    "\n",
    "# Add basemap\n",
    "ctx.add_basemap(ax, source=ctx.providers.OpenStreetMap.Mapnik, zoom=10, alpha=0.8)\n",
    "\n",
    "# Add a custom legend\n",
    "legend_patches = [\n",
    "    mpatches.Patch(color=fill_color, label=\"Incident Perimeter\", alpha=0.6, edgecolor=edge_color),\n",
    "    mpatches.Patch(color=\"none\", edgecolor=boundary_edge_color, label=\"Malheur National Forest Boundary\", linewidth=2)\n",
    "]\n",
    "ax.legend(handles=legend_patches, loc=\"upper right\")\n",
    "\n",
    "# Title and axis labels\n",
    "ax.set_title(\"All Malheur National Forest Fire Incidents (1910-2023) [duplicates removed)\", fontsize=14)\n",
    "\n",
    "# Remove axis labels (optional, since basemap provides context)\n",
    "ax.set_xticks([])\n",
    "ax.set_yticks([])\n",
    "\n",
    "# Show plot\n",
    "plt.show()"
   ]
  },
  {
   "cell_type": "code",
   "execution_count": null,
   "id": "331bb0bd-e5bd-4a24-a747-a7577108cb61",
   "metadata": {
    "tags": []
   },
   "outputs": [],
   "source": [
    "mnf_fires_cleaned.to_file(r\"C:\\Users\\imire\\OneDrive - UW\\Documents\\GDA567\\mnf_fires_cleaned.geojson\", driver=\"GeoJSON\")"
   ]
  }
 ],
 "metadata": {
  "kernelspec": {
   "display_name": "Python 3 (ipykernel)",
   "language": "python",
   "name": "python3"
  },
  "language_info": {
   "codemirror_mode": {
    "name": "ipython",
    "version": 3
   },
   "file_extension": ".py",
   "mimetype": "text/x-python",
   "name": "python",
   "nbconvert_exporter": "python",
   "pygments_lexer": "ipython3",
   "version": "3.11.6"
  }
 },
 "nbformat": 4,
 "nbformat_minor": 5
}
