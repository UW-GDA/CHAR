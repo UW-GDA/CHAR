{
 "cells": [
  {
   "cell_type": "markdown",
   "id": "2cd6583a-11c4-4d94-b552-e8f60d908614",
   "metadata": {},
   "source": [
    "#### *Create a `utils.py` module*\n",
    "This module should contain all of the utility functions. Use the command line or the file browser to create the `utils.py` file, then copy and paste all of these functions into it. At the top of the file, make sure to import all of the packages these functions depend on. Then run `!cat utils.py` to preserve the output in this notebook. "
   ]
  },
  {
   "cell_type": "code",
   "execution_count": null,
   "id": "a2c53748-33fe-4e10-acbe-9c35cf69e270",
   "metadata": {},
   "outputs": [],
   "source": []
  }
 ],
 "metadata": {
  "kernelspec": {
   "display_name": "Python 3 (ipykernel)",
   "language": "python",
   "name": "python3"
  },
  "language_info": {
   "codemirror_mode": {
    "name": "ipython",
    "version": 3
   },
   "file_extension": ".py",
   "mimetype": "text/x-python",
   "name": "python",
   "nbconvert_exporter": "python",
   "pygments_lexer": "ipython3",
   "version": "3.11.6"
  }
 },
 "nbformat": 4,
 "nbformat_minor": 5
}
