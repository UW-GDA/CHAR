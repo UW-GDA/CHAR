{
 "cells": [
  {
   "cell_type": "code",
   "execution_count": 2,
   "id": "9d046d07-e88e-4918-abbf-5a835aec5eae",
   "metadata": {},
   "outputs": [
    {
     "name": "stdout",
     "output_type": "stream",
     "text": [
      "Directories created successfully.\n"
     ]
    }
   ],
   "source": [
    "import os\n",
    "\n",
    "# List of directories to create\n",
    "dirs_to_create = [\n",
    "    os.path.join(\"scripts\"),\n",
    "    os.path.join(\"script_outputs\", \"boundary_polygons\"),\n",
    "    os.path.join(\"script_outputs\", \"mnf_subset\"),\n",
    "]\n",
    "\n",
    "# Create each directory if it doesn't exist\n",
    "for dir_path in dirs_to_create:\n",
    "    os.makedirs(dir_path, exist_ok=True)\n",
    "\n",
    "print(\"Directories created successfully.\")"
   ]
  },
  {
   "cell_type": "code",
   "execution_count": null,
   "id": "0b8f407a-b941-4e99-b253-6900ab8272ed",
   "metadata": {},
   "outputs": [],
   "source": []
  }
 ],
 "metadata": {
  "kernelspec": {
   "display_name": "Python 3 (ipykernel)",
   "language": "python",
   "name": "python3"
  },
  "language_info": {
   "codemirror_mode": {
    "name": "ipython",
    "version": 3
   },
   "file_extension": ".py",
   "mimetype": "text/x-python",
   "name": "python",
   "nbconvert_exporter": "python",
   "pygments_lexer": "ipython3",
   "version": "3.11.6"
  }
 },
 "nbformat": 4,
 "nbformat_minor": 5
}
