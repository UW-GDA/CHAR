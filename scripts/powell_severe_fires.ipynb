{
 "cells": [
  {
   "cell_type": "code",
   "execution_count": null,
   "id": "95269695-9dce-4a30-a6ff-17ca83c14721",
   "metadata": {},
   "outputs": [],
   "source": []
  },
  {
   "cell_type": "code",
   "execution_count": null,
   "id": "1860f19d-edda-401f-9360-ec3a3e0201bc",
   "metadata": {},
   "outputs": [],
   "source": [
    " = r\"CHAR/downloaded_data/mnf_fires_all.geojson\"\n",
    "mnf_fires_cleaned.r(os.path.join(script_output_folder, \"mnf_fires_cleaned.geojson\"), driver=\"GeoJSON\")"
   ]
  }
 ],
 "metadata": {
  "kernelspec": {
   "display_name": "Python 3 (ipykernel)",
   "language": "python",
   "name": "python3"
  },
  "language_info": {
   "codemirror_mode": {
    "name": "ipython",
    "version": 3
   },
   "file_extension": ".py",
   "mimetype": "text/x-python",
   "name": "python",
   "nbconvert_exporter": "python",
   "pygments_lexer": "ipython3",
   "version": "3.11.6"
  }
 },
 "nbformat": 4,
 "nbformat_minor": 5
}
